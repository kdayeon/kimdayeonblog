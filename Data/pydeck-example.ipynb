{
 "cells": [
  {
   "attachments": {},
   "cell_type": "markdown",
   "metadata": {},
   "source": [
    "---\n",
    "title: \"4. pydeck-example\"\n",
    "author: \"kim dayeon\"\n",
    "date: today\n",
    "categories: [news, code, analysis]\n",
    "image: \"4.pydeck.png\"\n",
    "---"
   ]
  },
  {
   "attachments": {},
   "cell_type": "markdown",
   "metadata": {},
   "source": [
    "<실행시키기위한 패키지 설치 및 실행>\n",
    "\n",
    "#1. pip install pydeck\n",
    "\n",
    "#2. !jupyter nbextension install --sys-prefix --symlink --overwrite --py pydeck\n",
    "#.  !jupyter nbextension enable --sys-prefix --py pydeck\n",
    "\n",
    "\n",
    "#3.   pip install pydeck[jupyter]\n",
    "\n",
    "\n",
    "#4.   MAPBOX_API_KEY=\"pk.eyJ1Ijoic3BlYXI1MzA2IiwiYSI6ImNremN5Z2FrOTI0ZGgycm45Mzh3dDV6OWQifQ.kXGWHPRjnVAEHgVgLzXn2g\""
   ]
  },
  {
   "attachments": {},
   "cell_type": "markdown",
   "metadata": {},
   "source": [
    "### 공식 홈페이지 예시"
   ]
  },
  {
   "cell_type": "code",
   "execution_count": 1,
   "metadata": {},
   "outputs": [
    {
     "data": {
      "text/html": [
       "<div>\n",
       "<style scoped>\n",
       "    .dataframe tbody tr th:only-of-type {\n",
       "        vertical-align: middle;\n",
       "    }\n",
       "\n",
       "    .dataframe tbody tr th {\n",
       "        vertical-align: top;\n",
       "    }\n",
       "\n",
       "    .dataframe thead th {\n",
       "        text-align: right;\n",
       "    }\n",
       "</style>\n",
       "<table border=\"1\" class=\"dataframe\">\n",
       "  <thead>\n",
       "    <tr style=\"text-align: right;\">\n",
       "      <th></th>\n",
       "      <th>lng</th>\n",
       "      <th>lat</th>\n",
       "    </tr>\n",
       "  </thead>\n",
       "  <tbody>\n",
       "    <tr>\n",
       "      <th>0</th>\n",
       "      <td>-0.198465</td>\n",
       "      <td>51.505538</td>\n",
       "    </tr>\n",
       "    <tr>\n",
       "      <th>1</th>\n",
       "      <td>-0.178838</td>\n",
       "      <td>51.491836</td>\n",
       "    </tr>\n",
       "    <tr>\n",
       "      <th>2</th>\n",
       "      <td>-0.205590</td>\n",
       "      <td>51.514910</td>\n",
       "    </tr>\n",
       "    <tr>\n",
       "      <th>3</th>\n",
       "      <td>-0.208327</td>\n",
       "      <td>51.514952</td>\n",
       "    </tr>\n",
       "    <tr>\n",
       "      <th>4</th>\n",
       "      <td>-0.206022</td>\n",
       "      <td>51.496572</td>\n",
       "    </tr>\n",
       "  </tbody>\n",
       "</table>\n",
       "</div>"
      ],
      "text/plain": [
       "        lng        lat\n",
       "0 -0.198465  51.505538\n",
       "1 -0.178838  51.491836\n",
       "2 -0.205590  51.514910\n",
       "3 -0.208327  51.514952\n",
       "4 -0.206022  51.496572"
      ]
     },
     "execution_count": 1,
     "metadata": {},
     "output_type": "execute_result"
    }
   ],
   "source": [
    "import pandas as pd\n",
    "import pydeck\n",
    "\n",
    "UK_ACCIDENTS_DATA = 'https://raw.githubusercontent.com/uber-common/deck.gl-data/master/examples/3d-heatmap/heatmap-data.csv'\n",
    "\n",
    "pd.read_csv(UK_ACCIDENTS_DATA).head()"
   ]
  },
  {
   "cell_type": "code",
   "execution_count": 2,
   "metadata": {},
   "outputs": [
    {
     "data": {
      "text/plain": [
       "'https://raw.githubusercontent.com/uber-common/deck.gl-data/master/examples/3d-heatmap/heatmap-data.csv'"
      ]
     },
     "execution_count": 2,
     "metadata": {},
     "output_type": "execute_result"
    }
   ],
   "source": [
    "UK_ACCIDENTS_DATA"
   ]
  },
  {
   "cell_type": "code",
   "execution_count": 3,
   "metadata": {},
   "outputs": [
    {
     "data": {
      "application/vnd.jupyter.widget-view+json": {
       "model_id": "8389a221ae184a9eabc1adc22e05ee46",
       "version_major": 2,
       "version_minor": 0
      },
      "text/plain": [
       "DeckGLWidget(carto_key=None, custom_libraries=[], google_maps_key=None, json_input='{\\n  \"initialViewState\": {…"
      ]
     },
     "metadata": {},
     "output_type": "display_data"
    }
   ],
   "source": [
    "layer = pydeck.Layer(\n",
    "    'HexagonLayer',\n",
    "    UK_ACCIDENTS_DATA,  #데이터 셋\n",
    "    get_position='[lng,lat]', #경도 위도를 불러오는 매개변수\n",
    "    auto_highlight=True,  #3D 형태로 표시\n",
    "    elevation_scale=50, #히트맵 높이 조정\n",
    "    pickable=True,\n",
    "    elevation_range=[0, 3000],\n",
    "    extruded=True,                 \n",
    "    coverage=1)\n",
    "\n",
    "# Set the viewport location  #어디서 지도를 볼건지 확인\n",
    "view_state = pydeck.ViewState(  \n",
    "    longitude=-1.415,  #중심위치 설정\n",
    "    latitude=52.2323,   #중심위치 설정\n",
    "    zoom=6,\n",
    "    min_zoom=5,\n",
    "    max_zoom=15,\n",
    "    pitch=40.5,   #지도 시점조정\n",
    "    bearing=-27.36)  #지도 시점 조정\n",
    "\n",
    "# Combined all of it and render a viewport\n",
    "r = pydeck.Deck(layers=[layer], initial_view_state=view_state)  #initial_view_State로 인하여 초기 뷰 상태 전달\n",
    "r.show()  #지도 보이기 \n",
    "# r.to_html('demo.html')  #html로 저장할 수 있음"
   ]
  },
  {
   "cell_type": "code",
   "execution_count": 4,
   "metadata": {},
   "outputs": [],
   "source": [
    "layer.elevation_range = [0, 500]\n",
    "\n",
    "r.update()"
   ]
  },
  {
   "cell_type": "code",
   "execution_count": 5,
   "metadata": {},
   "outputs": [],
   "source": [
    "import pydeck as pdk"
   ]
  },
  {
   "cell_type": "code",
   "execution_count": 6,
   "metadata": {},
   "outputs": [
    {
     "data": {
      "text/plain": [
       "pydeck.bindings.deck.Deck"
      ]
     },
     "execution_count": 6,
     "metadata": {},
     "output_type": "execute_result"
    }
   ],
   "source": [
    "pdk.Deck"
   ]
  },
  {
   "attachments": {},
   "cell_type": "markdown",
   "metadata": {},
   "source": [
    "### Scatter Plots"
   ]
  },
  {
   "cell_type": "code",
   "execution_count": 7,
   "metadata": {},
   "outputs": [
    {
     "data": {
      "text/html": [
       "<div>\n",
       "<style scoped>\n",
       "    .dataframe tbody tr th:only-of-type {\n",
       "        vertical-align: middle;\n",
       "    }\n",
       "\n",
       "    .dataframe tbody tr th {\n",
       "        vertical-align: top;\n",
       "    }\n",
       "\n",
       "    .dataframe thead th {\n",
       "        text-align: right;\n",
       "    }\n",
       "</style>\n",
       "<table border=\"1\" class=\"dataframe\">\n",
       "  <thead>\n",
       "    <tr style=\"text-align: right;\">\n",
       "      <th></th>\n",
       "      <th>lat</th>\n",
       "      <th>lng</th>\n",
       "      <th>osm_id</th>\n",
       "      <th>station_name</th>\n",
       "      <th>chinese_name</th>\n",
       "      <th>opening_date</th>\n",
       "      <th>color</th>\n",
       "      <th>line_name</th>\n",
       "    </tr>\n",
       "  </thead>\n",
       "  <tbody>\n",
       "    <tr>\n",
       "      <th>0</th>\n",
       "      <td>39.940249</td>\n",
       "      <td>116.456359</td>\n",
       "      <td>1351272524</td>\n",
       "      <td>Agricultural Exhibition Center</td>\n",
       "      <td>农业展览馆</td>\n",
       "      <td>2008-07-19</td>\n",
       "      <td>[0, 146, 188, 255]</td>\n",
       "      <td>Line 10</td>\n",
       "    </tr>\n",
       "    <tr>\n",
       "      <th>1</th>\n",
       "      <td>39.955570</td>\n",
       "      <td>116.388507</td>\n",
       "      <td>5057476994</td>\n",
       "      <td>Andelibeijie</td>\n",
       "      <td>安德里北街</td>\n",
       "      <td>2015-12-26</td>\n",
       "      <td>[0, 155, 119, 255]</td>\n",
       "      <td>Line 8 (North section)</td>\n",
       "    </tr>\n",
       "    <tr>\n",
       "      <th>2</th>\n",
       "      <td>39.947729</td>\n",
       "      <td>116.402067</td>\n",
       "      <td>339088654</td>\n",
       "      <td>Andingmen</td>\n",
       "      <td>安定门</td>\n",
       "      <td>1984-09-20</td>\n",
       "      <td>[0, 75, 135, 255]</td>\n",
       "      <td>Line 2</td>\n",
       "    </tr>\n",
       "    <tr>\n",
       "      <th>3</th>\n",
       "      <td>40.011026</td>\n",
       "      <td>116.263981</td>\n",
       "      <td>1362259113</td>\n",
       "      <td>Anheqiao North</td>\n",
       "      <td>安河桥北</td>\n",
       "      <td>2009-09-28</td>\n",
       "      <td>[0, 140, 149, 255]</td>\n",
       "      <td>Line 4</td>\n",
       "    </tr>\n",
       "    <tr>\n",
       "      <th>4</th>\n",
       "      <td>39.967112</td>\n",
       "      <td>116.388398</td>\n",
       "      <td>5305505996</td>\n",
       "      <td>Anhuaqiao</td>\n",
       "      <td>安华桥</td>\n",
       "      <td>2012-12-30</td>\n",
       "      <td>[0, 155, 119, 255]</td>\n",
       "      <td>Line 8 (North section)</td>\n",
       "    </tr>\n",
       "  </tbody>\n",
       "</table>\n",
       "</div>"
      ],
      "text/plain": [
       "         lat         lng      osm_id                    station_name   \n",
       "0  39.940249  116.456359  1351272524  Agricultural Exhibition Center  \\\n",
       "1  39.955570  116.388507  5057476994                    Andelibeijie   \n",
       "2  39.947729  116.402067   339088654                       Andingmen   \n",
       "3  40.011026  116.263981  1362259113                  Anheqiao North   \n",
       "4  39.967112  116.388398  5305505996                       Anhuaqiao   \n",
       "\n",
       "  chinese_name opening_date               color               line_name  \n",
       "0        农业展览馆   2008-07-19  [0, 146, 188, 255]                 Line 10  \n",
       "1        安德里北街   2015-12-26  [0, 155, 119, 255]  Line 8 (North section)  \n",
       "2          安定门   1984-09-20   [0, 75, 135, 255]                  Line 2  \n",
       "3         安河桥北   2009-09-28  [0, 140, 149, 255]                  Line 4  \n",
       "4          安华桥   2012-12-30  [0, 155, 119, 255]  Line 8 (North section)  "
      ]
     },
     "execution_count": 7,
     "metadata": {},
     "output_type": "execute_result"
    }
   ],
   "source": [
    "import pandas as pd\n",
    "from pydeck import (\n",
    "    data_utils,\n",
    "    Deck,\n",
    "    Layer\n",
    ")\n",
    "\n",
    "# First, let's use Pandas to download our data\n",
    "URL = 'https://raw.githubusercontent.com/ajduberstein/data_sets/master/beijing_subway_station.csv'\n",
    "df = pd.read_csv(URL)\n",
    "df.head()\n",
    "#위경도 확인 할수 있음 color: RGB값 [R,G,B, 투명도]"
   ]
  },
  {
   "cell_type": "code",
   "execution_count": 8,
   "metadata": {},
   "outputs": [],
   "source": [
    "from ast import literal_eval  #텍스트를 리스트 형식으로 바꾸기\n",
    "# We have to re-code position to be one field in a list, so we'll do that here:\n",
    "# The CSV encodes the [R, G, B, A] color values listed in it as a string\n",
    "df['color'] = df.apply(lambda x: literal_eval(x['color']), axis=1)"
   ]
  },
  {
   "cell_type": "code",
   "execution_count": 9,
   "metadata": {},
   "outputs": [
    {
     "data": {
      "text/html": [
       "<div>\n",
       "<style scoped>\n",
       "    .dataframe tbody tr th:only-of-type {\n",
       "        vertical-align: middle;\n",
       "    }\n",
       "\n",
       "    .dataframe tbody tr th {\n",
       "        vertical-align: top;\n",
       "    }\n",
       "\n",
       "    .dataframe thead th {\n",
       "        text-align: right;\n",
       "    }\n",
       "</style>\n",
       "<table border=\"1\" class=\"dataframe\">\n",
       "  <thead>\n",
       "    <tr style=\"text-align: right;\">\n",
       "      <th></th>\n",
       "      <th>lat</th>\n",
       "      <th>lng</th>\n",
       "      <th>osm_id</th>\n",
       "      <th>station_name</th>\n",
       "      <th>chinese_name</th>\n",
       "      <th>opening_date</th>\n",
       "      <th>color</th>\n",
       "      <th>line_name</th>\n",
       "    </tr>\n",
       "  </thead>\n",
       "  <tbody>\n",
       "    <tr>\n",
       "      <th>0</th>\n",
       "      <td>39.940249</td>\n",
       "      <td>116.456359</td>\n",
       "      <td>1351272524</td>\n",
       "      <td>Agricultural Exhibition Center</td>\n",
       "      <td>农业展览馆</td>\n",
       "      <td>2008-07-19</td>\n",
       "      <td>[0, 146, 188, 255]</td>\n",
       "      <td>Line 10</td>\n",
       "    </tr>\n",
       "    <tr>\n",
       "      <th>1</th>\n",
       "      <td>39.955570</td>\n",
       "      <td>116.388507</td>\n",
       "      <td>5057476994</td>\n",
       "      <td>Andelibeijie</td>\n",
       "      <td>安德里北街</td>\n",
       "      <td>2015-12-26</td>\n",
       "      <td>[0, 155, 119, 255]</td>\n",
       "      <td>Line 8 (North section)</td>\n",
       "    </tr>\n",
       "    <tr>\n",
       "      <th>2</th>\n",
       "      <td>39.947729</td>\n",
       "      <td>116.402067</td>\n",
       "      <td>339088654</td>\n",
       "      <td>Andingmen</td>\n",
       "      <td>安定门</td>\n",
       "      <td>1984-09-20</td>\n",
       "      <td>[0, 75, 135, 255]</td>\n",
       "      <td>Line 2</td>\n",
       "    </tr>\n",
       "    <tr>\n",
       "      <th>3</th>\n",
       "      <td>40.011026</td>\n",
       "      <td>116.263981</td>\n",
       "      <td>1362259113</td>\n",
       "      <td>Anheqiao North</td>\n",
       "      <td>安河桥北</td>\n",
       "      <td>2009-09-28</td>\n",
       "      <td>[0, 140, 149, 255]</td>\n",
       "      <td>Line 4</td>\n",
       "    </tr>\n",
       "    <tr>\n",
       "      <th>4</th>\n",
       "      <td>39.967112</td>\n",
       "      <td>116.388398</td>\n",
       "      <td>5305505996</td>\n",
       "      <td>Anhuaqiao</td>\n",
       "      <td>安华桥</td>\n",
       "      <td>2012-12-30</td>\n",
       "      <td>[0, 155, 119, 255]</td>\n",
       "      <td>Line 8 (North section)</td>\n",
       "    </tr>\n",
       "  </tbody>\n",
       "</table>\n",
       "</div>"
      ],
      "text/plain": [
       "         lat         lng      osm_id                    station_name   \n",
       "0  39.940249  116.456359  1351272524  Agricultural Exhibition Center  \\\n",
       "1  39.955570  116.388507  5057476994                    Andelibeijie   \n",
       "2  39.947729  116.402067   339088654                       Andingmen   \n",
       "3  40.011026  116.263981  1362259113                  Anheqiao North   \n",
       "4  39.967112  116.388398  5305505996                       Anhuaqiao   \n",
       "\n",
       "  chinese_name opening_date               color               line_name  \n",
       "0        农业展览馆   2008-07-19  [0, 146, 188, 255]                 Line 10  \n",
       "1        安德里北街   2015-12-26  [0, 155, 119, 255]  Line 8 (North section)  \n",
       "2          安定门   1984-09-20   [0, 75, 135, 255]                  Line 2  \n",
       "3         安河桥北   2009-09-28  [0, 140, 149, 255]                  Line 4  \n",
       "4          安华桥   2012-12-30  [0, 155, 119, 255]  Line 8 (North section)  "
      ]
     },
     "execution_count": 9,
     "metadata": {},
     "output_type": "execute_result"
    }
   ],
   "source": [
    "df.head()"
   ]
  },
  {
   "cell_type": "code",
   "execution_count": 10,
   "metadata": {},
   "outputs": [
    {
     "data": {
      "text/html": [
       "\n",
       "        <iframe\n",
       "            width=\"100%\"\n",
       "            height=500\n",
       "            frameborder=\"0\"\n",
       "            srcdoc=\"&lt;!DOCTYPE html&gt;\n",
       "&lt;html&gt;\n",
       "  &lt;head&gt;\n",
       "    &lt;meta http-equiv=&quot;content-type&quot; content=&quot;text/html; charset=UTF-8&quot; /&gt;\n",
       "    &lt;title&gt;pydeck&lt;/title&gt;\n",
       "        &lt;script src=&quot;https://api.tiles.mapbox.com/mapbox-gl-js/v1.13.0/mapbox-gl.js&quot;&gt;&lt;/script&gt;\n",
       "        &lt;link rel=&quot;stylesheet&quot; href=&quot;https://maxcdn.bootstrapcdn.com/bootstrap/3.2.0/css/bootstrap-theme.min.css&quot; /&gt;\n",
       "    &lt;link rel=&quot;stylesheet&quot; href=&quot;https://maxcdn.bootstrapcdn.com/font-awesome/4.6.3/css/font-awesome.min.css&quot; /&gt;\n",
       "    &lt;script src=&#x27;https://cdn.jsdelivr.net/npm/@deck.gl/jupyter-widget@~8.8.*/dist/index.js&#x27;&gt;&lt;/script&gt;\n",
       "    &lt;style&gt;\n",
       "    body {\n",
       "  margin: 0;\n",
       "  padding: 0;\n",
       "  overflow: hidden;\n",
       "}\n",
       "\n",
       "#deck-container {\n",
       "  width: 100vw;\n",
       "  height: 100vh;\n",
       "}\n",
       "\n",
       "#deck-container canvas {\n",
       "  z-index: 1;\n",
       "  background: none;\n",
       "}\n",
       "    &lt;/style&gt;\n",
       "  &lt;/head&gt;\n",
       "  &lt;body&gt;\n",
       "    &lt;div id=&quot;deck-container&quot;&gt;\n",
       "    &lt;/div&gt;\n",
       "  &lt;/body&gt;\n",
       "  &lt;script&gt;\n",
       "    const container = document.getElementById(&#x27;deck-container&#x27;);\n",
       "    const jsonInput = {\n",
       "  &quot;initialViewState&quot;: {\n",
       "    &quot;latitude&quot;: 39.92295563963415,\n",
       "    &quot;longitude&quot;: 116.37423261672825,\n",
       "    &quot;zoom&quot;: 9\n",
       "  },\n",
       "  &quot;layers&quot;: [],\n",
       "  &quot;mapProvider&quot;: &quot;carto&quot;,\n",
       "  &quot;mapStyle&quot;: &quot;https://basemaps.cartocdn.com/gl/dark-matter-gl-style/style.json&quot;,\n",
       "  &quot;views&quot;: [\n",
       "    {\n",
       "      &quot;@@type&quot;: &quot;MapView&quot;,\n",
       "      &quot;controller&quot;: true\n",
       "    }\n",
       "  ]\n",
       "};\n",
       "    const tooltip = true;\n",
       "    const customLibraries = null;\n",
       "    const configuration = null;\n",
       "\n",
       "    const deckInstance = createDeck({\n",
       "                  container,\n",
       "      jsonInput,\n",
       "      tooltip,\n",
       "      customLibraries,\n",
       "      configuration\n",
       "    });\n",
       "\n",
       "  &lt;/script&gt;\n",
       "&lt;/html&gt;\"\n",
       "        ></iframe>\n",
       "    "
      ],
      "text/plain": [
       "{\n",
       "  \"initialViewState\": {\n",
       "    \"latitude\": 39.92295563963415,\n",
       "    \"longitude\": 116.37423261672825,\n",
       "    \"zoom\": 9\n",
       "  },\n",
       "  \"layers\": [],\n",
       "  \"mapProvider\": \"carto\",\n",
       "  \"mapStyle\": \"https://basemaps.cartocdn.com/gl/dark-matter-gl-style/style.json\",\n",
       "  \"views\": [\n",
       "    {\n",
       "      \"@@type\": \"MapView\",\n",
       "      \"controller\": true\n",
       "    }\n",
       "  ]\n",
       "}"
      ]
     },
     "execution_count": 10,
     "metadata": {},
     "output_type": "execute_result"
    }
   ],
   "source": [
    "# Use pydeck's data_utils module to fit a viewport to the central 90% of the data\n",
    "#위경도 좌표 표시\n",
    "viewport = data_utils.compute_view(points=df[['lng', 'lat']], view_proportion=0.9)\n",
    "auto_zoom_map = Deck(layers=None, initial_view_state=viewport)\n",
    "auto_zoom_map.show()\n",
    "auto_zoom_map\n",
    "\n",
    "# auto_zoom_map.to_html('demo.html')"
   ]
  },
  {
   "cell_type": "code",
   "execution_count": 11,
   "metadata": {},
   "outputs": [
    {
     "name": "stderr",
     "output_type": "stream",
     "text": [
      "C:\\Users\\jiyeo\\AppData\\Local\\Temp\\ipykernel_1504\\1358459236.py:1: DeprecationWarning: Importing display from IPython.core.display is deprecated since IPython 7.14, please import from IPython display\n",
      "  from IPython.core.display import display\n"
     ]
    },
    {
     "data": {
      "application/vnd.jupyter.widget-view+json": {
       "model_id": "b427d4b2245b47bcb6e9483e2e42fe2a",
       "version_major": 2,
       "version_minor": 0
      },
      "text/plain": [
       "HTML(value='<h1>2019</h1>')"
      ]
     },
     "metadata": {},
     "output_type": "display_data"
    },
    {
     "data": {
      "application/vnd.jupyter.widget-view+json": {
       "model_id": "f97256d4002d47a892a659af9b33fcf4",
       "version_major": 2,
       "version_minor": 0
      },
      "text/plain": [
       "DeckGLWidget(carto_key=None, custom_libraries=[], google_maps_key=None, json_input='{\\n  \"initialViewState\": {…"
      ]
     },
     "metadata": {},
     "output_type": "display_data"
    }
   ],
   "source": [
    "from IPython.core.display import display\n",
    "import ipywidgets\n",
    "\n",
    "year = 2019\n",
    "\n",
    "scatterplot = Layer(\n",
    "    'ScatterplotLayer',\n",
    "    df,\n",
    "    id='scatterplot-layer',\n",
    "    get_radius=500,\n",
    "    get_fill_color='color',\n",
    "    get_position='[lng, lat]')\n",
    "r = Deck(layers=[scatterplot], initial_view_state=viewport)\n",
    "\n",
    "# Create an HTML header to display the year\n",
    "display_el = ipywidgets.HTML('<h1>{}</h1>'.format(year))\n",
    "display(display_el)\n",
    "# Show the current visualization\n",
    "r.show()\n",
    "# r.to_html('demo.html')"
   ]
  },
  {
   "cell_type": "code",
   "execution_count": 12,
   "metadata": {},
   "outputs": [],
   "source": [
    "import time\n",
    "for y in range(1971, 2020):\n",
    "    scatterplot.data = df[df['opening_date'] <= str(y)]\n",
    "    year = y\n",
    "    # Reset the header to display the year\n",
    "    display_el.value = '<h1>{}</h1>'.format(year)\n",
    "    r.update()\n",
    "    time.sleep(0.1)"
   ]
  },
  {
   "attachments": {},
   "cell_type": "markdown",
   "metadata": {},
   "source": [
    "### Using pydeck to manipulate data"
   ]
  },
  {
   "cell_type": "code",
   "execution_count": 13,
   "metadata": {},
   "outputs": [],
   "source": [
    "import pydeck as pdk\n",
    "\n",
    "DATA_URL = 'https://api.data.gov.sg/v1/transport/taxi-availability'\n",
    "COLOR_RANGE = [\n",
    "  [255, 255, 178, 25],\n",
    "  [254, 217, 118, 85],\n",
    "  [254, 178, 76, 127],\n",
    "  [253, 141, 60, 170],\n",
    "  [240, 59, 32, 212],\n",
    "  [189, 0, 38, 255]\n",
    "]"
   ]
  },
  {
   "cell_type": "code",
   "execution_count": 14,
   "metadata": {},
   "outputs": [],
   "source": [
    "import pandas as pd\n",
    "import requests\n",
    "\n",
    "#싱가포르의 택시 위치 좌표\n",
    "\n",
    "json = requests.get(DATA_URL).json()  #requests를 통해 데이터 요청\n",
    "df = pd.DataFrame(json[\"features\"][0][\"geometry\"][\"coordinates\"]) #데이터를 데이터프레임으로 변경\n",
    "df.columns = ['lng', 'lat']\n",
    "\n",
    "viewport = pdk.data_utils.compute_view(df[['lng', 'lat']])  #데이터좌표 범위 계산하여 초기 뷰포인트 설정 생성\n",
    "layer = pdk.Layer(\n",
    "    'ScreenGridLayer',  #그리드 형태로 데이터를 시각화\n",
    "    df,\n",
    "    cell_size_pixels=20, #픽셀 크기\n",
    "    color_range=COLOR_RANGE, #그리드 색상 범위\n",
    "    get_position='[lng, lat]',  #데이터 좌표 정보를 가져올 수 있는 방법\n",
    "    pickable=True, #레이어 선택 가능 하게 하는 옵션\n",
    "    auto_highlight=True) #해당 레이어의 요소가 자동으로 하이라이트 되게하는 옵션\n",
    "r = pdk.Deck(layers=[layer], initial_view_state=viewport)"
   ]
  },
  {
   "cell_type": "code",
   "execution_count": 15,
   "metadata": {},
   "outputs": [
    {
     "data": {
      "application/vnd.jupyter.widget-view+json": {
       "model_id": "94529994ed174e28ad11ac47b1c91220",
       "version_major": 2,
       "version_minor": 0
      },
      "text/plain": [
       "DeckGLWidget(carto_key=None, custom_libraries=[], google_maps_key=None, json_input='{\\n  \"initialViewState\": {…"
      ]
     },
     "metadata": {},
     "output_type": "display_data"
    }
   ],
   "source": [
    "\n",
    "r.show()\n"
   ]
  },
  {
   "cell_type": "code",
   "execution_count": 16,
   "metadata": {},
   "outputs": [
    {
     "data": {
      "text/html": [
       "<div>\n",
       "<style scoped>\n",
       "    .dataframe tbody tr th:only-of-type {\n",
       "        vertical-align: middle;\n",
       "    }\n",
       "\n",
       "    .dataframe tbody tr th {\n",
       "        vertical-align: top;\n",
       "    }\n",
       "\n",
       "    .dataframe thead th {\n",
       "        text-align: right;\n",
       "    }\n",
       "</style>\n",
       "<table border=\"1\" class=\"dataframe\">\n",
       "  <thead>\n",
       "    <tr style=\"text-align: right;\">\n",
       "      <th></th>\n",
       "    </tr>\n",
       "  </thead>\n",
       "  <tbody>\n",
       "    <tr>\n",
       "      <th>0</th>\n",
       "    </tr>\n",
       "  </tbody>\n",
       "</table>\n",
       "</div>"
      ],
      "text/plain": [
       "Empty DataFrame\n",
       "Columns: []\n",
       "Index: [0]"
      ]
     },
     "execution_count": 16,
     "metadata": {},
     "output_type": "execute_result"
    }
   ],
   "source": [
    "pd.DataFrame([r.deck_widget.selected_data])"
   ]
  },
  {
   "attachments": {},
   "cell_type": "markdown",
   "metadata": {},
   "source": [
    "### Plotting massive data sets.ipynb"
   ]
  },
  {
   "cell_type": "code",
   "execution_count": 17,
   "metadata": {},
   "outputs": [],
   "source": [
    "import pandas as pd\n",
    "#point 데이터\n",
    "all_lidar = pd.concat([\n",
    "    pd.read_csv('https://raw.githubusercontent.com/ajduberstein/kitti_subset/master/kitti_1.csv'),\n",
    "    pd.read_csv('https://raw.githubusercontent.com/ajduberstein/kitti_subset/master/kitti_2.csv'),\n",
    "    pd.read_csv('https://raw.githubusercontent.com/ajduberstein/kitti_subset/master/kitti_3.csv'),\n",
    "    pd.read_csv('https://raw.githubusercontent.com/ajduberstein/kitti_subset/master/kitti_4.csv'),\n",
    "])\n",
    "\n",
    "# Filter to one frame of data\n",
    "lidar = all_lidar[all_lidar['source'] == 136]\n",
    "lidar.loc[: , ['x', 'y']] = lidar[['x', 'y']] / 10000  "
   ]
  },
  {
   "cell_type": "code",
   "execution_count": 18,
   "metadata": {},
   "outputs": [
    {
     "data": {
      "text/html": [
       "<div>\n",
       "<style scoped>\n",
       "    .dataframe tbody tr th:only-of-type {\n",
       "        vertical-align: middle;\n",
       "    }\n",
       "\n",
       "    .dataframe tbody tr th {\n",
       "        vertical-align: top;\n",
       "    }\n",
       "\n",
       "    .dataframe thead th {\n",
       "        text-align: right;\n",
       "    }\n",
       "</style>\n",
       "<table border=\"1\" class=\"dataframe\">\n",
       "  <thead>\n",
       "    <tr style=\"text-align: right;\">\n",
       "      <th></th>\n",
       "      <th>x</th>\n",
       "      <th>y</th>\n",
       "      <th>z</th>\n",
       "      <th>source</th>\n",
       "    </tr>\n",
       "  </thead>\n",
       "  <tbody>\n",
       "    <tr>\n",
       "      <th>0</th>\n",
       "      <td>32.836</td>\n",
       "      <td>0.056</td>\n",
       "      <td>1.319</td>\n",
       "      <td>122</td>\n",
       "    </tr>\n",
       "    <tr>\n",
       "      <th>1</th>\n",
       "      <td>32.588</td>\n",
       "      <td>0.107</td>\n",
       "      <td>1.311</td>\n",
       "      <td>122</td>\n",
       "    </tr>\n",
       "    <tr>\n",
       "      <th>2</th>\n",
       "      <td>32.403</td>\n",
       "      <td>0.208</td>\n",
       "      <td>1.305</td>\n",
       "      <td>122</td>\n",
       "    </tr>\n",
       "    <tr>\n",
       "      <th>3</th>\n",
       "      <td>60.085</td>\n",
       "      <td>1.163</td>\n",
       "      <td>2.241</td>\n",
       "      <td>122</td>\n",
       "    </tr>\n",
       "    <tr>\n",
       "      <th>4</th>\n",
       "      <td>76.862</td>\n",
       "      <td>20.430</td>\n",
       "      <td>2.898</td>\n",
       "      <td>122</td>\n",
       "    </tr>\n",
       "  </tbody>\n",
       "</table>\n",
       "</div>"
      ],
      "text/plain": [
       "        x       y      z  source\n",
       "0  32.836   0.056  1.319     122\n",
       "1  32.588   0.107  1.311     122\n",
       "2  32.403   0.208  1.305     122\n",
       "3  60.085   1.163  2.241     122\n",
       "4  76.862  20.430  2.898     122"
      ]
     },
     "execution_count": 18,
     "metadata": {},
     "output_type": "execute_result"
    }
   ],
   "source": [
    "all_lidar.head()"
   ]
  },
  {
   "cell_type": "code",
   "execution_count": 19,
   "metadata": {},
   "outputs": [
    {
     "data": {
      "application/vnd.jupyter.widget-view+json": {
       "model_id": "24c771d71a554781ac50ec968acaa4f5",
       "version_major": 2,
       "version_minor": 0
      },
      "text/plain": [
       "DeckGLWidget(carto_key=None, custom_libraries=[], google_maps_key=None, json_input='{\\n  \"initialViewState\": {…"
      ]
     },
     "metadata": {},
     "output_type": "display_data"
    }
   ],
   "source": [
    "import pydeck as pdk\n",
    "\n",
    "\n",
    "point_cloud = pdk.Layer(\n",
    "    'PointCloudLayer',\n",
    "    lidar[['x', 'y', 'z']],\n",
    "    get_position='[x, y, z * 10]',\n",
    "    get_normal=[0, 0, 1],\n",
    "    get_color=[255, 0, 100, 200],\n",
    "    pickable=True,  \n",
    "    auto_highlight=True,\n",
    "    point_size=1)\n",
    "\n",
    "\n",
    "view_state = pdk.data_utils.compute_view(lidar[['x', 'y']], 0.9)\n",
    "view_state.max_pitch = 360\n",
    "view_state.pitch = 80\n",
    "view_state.bearing = 120\n",
    "\n",
    "r = pdk.Deck(\n",
    "    point_cloud,\n",
    "    initial_view_state=view_state,\n",
    "    map_style='')\n",
    "r.show()"
   ]
  },
  {
   "cell_type": "code",
   "execution_count": 20,
   "metadata": {},
   "outputs": [
    {
     "name": "stdout",
     "output_type": "stream",
     "text": [
      "Press the stop icon to exit\n"
     ]
    }
   ],
   "source": [
    "import time\n",
    "from collections import deque\n",
    "\n",
    "# Choose a handful of frames to loop through\n",
    "frame_buffer = deque([42, 56, 81, 95])\n",
    "print('Press the stop icon to exit')\n",
    "while True:\n",
    "    current_frame = frame_buffer[0]\n",
    "    lidar = all_lidar[all_lidar['source'] == current_frame]\n",
    "    r.layers[0].get_position = '[x , y , z * 10]'\n",
    "    r.layers[0].data = lidar.to_dict(orient='records')\n",
    "    frame_buffer.rotate()\n",
    "    r.update()\n",
    "    time.sleep(0.5)"
   ]
  },
  {
   "attachments": {},
   "cell_type": "markdown",
   "metadata": {},
   "source": [
    "### Interacting with other Jupyter widgets.ipynb"
   ]
  },
  {
   "cell_type": "code",
   "execution_count": 3,
   "metadata": {},
   "outputs": [
    {
     "data": {
      "text/html": [
       "<div>\n",
       "<style scoped>\n",
       "    .dataframe tbody tr th:only-of-type {\n",
       "        vertical-align: middle;\n",
       "    }\n",
       "\n",
       "    .dataframe tbody tr th {\n",
       "        vertical-align: top;\n",
       "    }\n",
       "\n",
       "    .dataframe thead th {\n",
       "        text-align: right;\n",
       "    }\n",
       "</style>\n",
       "<table border=\"1\" class=\"dataframe\">\n",
       "  <thead>\n",
       "    <tr style=\"text-align: right;\">\n",
       "      <th></th>\n",
       "      <th>year</th>\n",
       "      <th>lng</th>\n",
       "      <th>lat</th>\n",
       "      <th>brightness</th>\n",
       "    </tr>\n",
       "  </thead>\n",
       "  <tbody>\n",
       "    <tr>\n",
       "      <th>0</th>\n",
       "      <td>1993</td>\n",
       "      <td>104.575</td>\n",
       "      <td>31.808</td>\n",
       "      <td>4</td>\n",
       "    </tr>\n",
       "    <tr>\n",
       "      <th>1</th>\n",
       "      <td>1993</td>\n",
       "      <td>104.583</td>\n",
       "      <td>31.808</td>\n",
       "      <td>4</td>\n",
       "    </tr>\n",
       "    <tr>\n",
       "      <th>2</th>\n",
       "      <td>1993</td>\n",
       "      <td>104.592</td>\n",
       "      <td>31.808</td>\n",
       "      <td>4</td>\n",
       "    </tr>\n",
       "    <tr>\n",
       "      <th>3</th>\n",
       "      <td>1993</td>\n",
       "      <td>104.600</td>\n",
       "      <td>31.808</td>\n",
       "      <td>4</td>\n",
       "    </tr>\n",
       "    <tr>\n",
       "      <th>4</th>\n",
       "      <td>1993</td>\n",
       "      <td>104.675</td>\n",
       "      <td>31.808</td>\n",
       "      <td>4</td>\n",
       "    </tr>\n",
       "  </tbody>\n",
       "</table>\n",
       "</div>"
      ],
      "text/plain": [
       "   year      lng     lat  brightness\n",
       "0  1993  104.575  31.808           4\n",
       "1  1993  104.583  31.808           4\n",
       "2  1993  104.592  31.808           4\n",
       "3  1993  104.600  31.808           4\n",
       "4  1993  104.675  31.808           4"
      ]
     },
     "execution_count": 3,
     "metadata": {},
     "output_type": "execute_result"
    }
   ],
   "source": [
    "LIGHTS_URL = 'https://raw.githubusercontent.com/ajduberstein/lights_at_night/master/chengdu_lights_at_night.csv'\n",
    "df = pd.read_csv(LIGHTS_URL)\n",
    "df.head()"
   ]
  },
  {
   "cell_type": "code",
   "execution_count": 4,
   "metadata": {},
   "outputs": [
    {
     "data": {
      "text/html": [
       "<div>\n",
       "<style scoped>\n",
       "    .dataframe tbody tr th:only-of-type {\n",
       "        vertical-align: middle;\n",
       "    }\n",
       "\n",
       "    .dataframe tbody tr th {\n",
       "        vertical-align: top;\n",
       "    }\n",
       "\n",
       "    .dataframe thead th {\n",
       "        text-align: right;\n",
       "    }\n",
       "</style>\n",
       "<table border=\"1\" class=\"dataframe\">\n",
       "  <thead>\n",
       "    <tr style=\"text-align: right;\">\n",
       "      <th></th>\n",
       "      <th>year</th>\n",
       "      <th>lng</th>\n",
       "      <th>lat</th>\n",
       "      <th>brightness</th>\n",
       "      <th>color</th>\n",
       "    </tr>\n",
       "  </thead>\n",
       "  <tbody>\n",
       "    <tr>\n",
       "      <th>222200</th>\n",
       "      <td>2011</td>\n",
       "      <td>104.325</td>\n",
       "      <td>31.417</td>\n",
       "      <td>8</td>\n",
       "      <td>[255, 32, 255, 255]</td>\n",
       "    </tr>\n",
       "    <tr>\n",
       "      <th>86964</th>\n",
       "      <td>2001</td>\n",
       "      <td>104.483</td>\n",
       "      <td>31.675</td>\n",
       "      <td>4</td>\n",
       "      <td>[255, 16, 255, 255]</td>\n",
       "    </tr>\n",
       "    <tr>\n",
       "      <th>162996</th>\n",
       "      <td>2013</td>\n",
       "      <td>103.800</td>\n",
       "      <td>30.700</td>\n",
       "      <td>51</td>\n",
       "      <td>[255, 204, 255, 255]</td>\n",
       "    </tr>\n",
       "    <tr>\n",
       "      <th>316286</th>\n",
       "      <td>1999</td>\n",
       "      <td>105.767</td>\n",
       "      <td>29.608</td>\n",
       "      <td>4</td>\n",
       "      <td>[255, 16, 255, 255]</td>\n",
       "    </tr>\n",
       "    <tr>\n",
       "      <th>263285</th>\n",
       "      <td>2005</td>\n",
       "      <td>104.783</td>\n",
       "      <td>31.442</td>\n",
       "      <td>25</td>\n",
       "      <td>[255, 100, 255, 255]</td>\n",
       "    </tr>\n",
       "    <tr>\n",
       "      <th>44450</th>\n",
       "      <td>1995</td>\n",
       "      <td>103.908</td>\n",
       "      <td>30.825</td>\n",
       "      <td>8</td>\n",
       "      <td>[255, 32, 255, 255]</td>\n",
       "    </tr>\n",
       "    <tr>\n",
       "      <th>237232</th>\n",
       "      <td>2011</td>\n",
       "      <td>103.858</td>\n",
       "      <td>30.625</td>\n",
       "      <td>25</td>\n",
       "      <td>[255, 100, 255, 255]</td>\n",
       "    </tr>\n",
       "    <tr>\n",
       "      <th>122409</th>\n",
       "      <td>2003</td>\n",
       "      <td>105.042</td>\n",
       "      <td>31.133</td>\n",
       "      <td>3</td>\n",
       "      <td>[255, 12, 255, 255]</td>\n",
       "    </tr>\n",
       "    <tr>\n",
       "      <th>138668</th>\n",
       "      <td>2003</td>\n",
       "      <td>104.575</td>\n",
       "      <td>30.208</td>\n",
       "      <td>3</td>\n",
       "      <td>[255, 12, 255, 255]</td>\n",
       "    </tr>\n",
       "    <tr>\n",
       "      <th>143339</th>\n",
       "      <td>2003</td>\n",
       "      <td>103.192</td>\n",
       "      <td>29.858</td>\n",
       "      <td>3</td>\n",
       "      <td>[255, 12, 255, 255]</td>\n",
       "    </tr>\n",
       "  </tbody>\n",
       "</table>\n",
       "</div>"
      ],
      "text/plain": [
       "        year      lng     lat  brightness                 color\n",
       "222200  2011  104.325  31.417           8   [255, 32, 255, 255]\n",
       "86964   2001  104.483  31.675           4   [255, 16, 255, 255]\n",
       "162996  2013  103.800  30.700          51  [255, 204, 255, 255]\n",
       "316286  1999  105.767  29.608           4   [255, 16, 255, 255]\n",
       "263285  2005  104.783  31.442          25  [255, 100, 255, 255]\n",
       "44450   1995  103.908  30.825           8   [255, 32, 255, 255]\n",
       "237232  2011  103.858  30.625          25  [255, 100, 255, 255]\n",
       "122409  2003  105.042  31.133           3   [255, 12, 255, 255]\n",
       "138668  2003  104.575  30.208           3   [255, 12, 255, 255]\n",
       "143339  2003  103.192  29.858           3   [255, 12, 255, 255]"
      ]
     },
     "execution_count": 4,
     "metadata": {},
     "output_type": "execute_result"
    }
   ],
   "source": [
    "df['color'] = df['brightness'].apply(lambda val: [255, val * 4,  255, 255])\n",
    "df.sample(10) ##255가 흰색"
   ]
  },
  {
   "cell_type": "code",
   "execution_count": 13,
   "metadata": {},
   "outputs": [
    {
     "data": {
      "application/vnd.jupyter.widget-view+json": {
       "model_id": "a890904bb5f24864abcf144a805c9f27",
       "version_major": 2,
       "version_minor": 0
      },
      "text/plain": [
       "DeckGLWidget(carto_key=None, custom_libraries=[], google_maps_key=None, json_input='{\\n  \"initialViewState\": {…"
      ]
     },
     "metadata": {},
     "output_type": "display_data"
    }
   ],
   "source": [
    "plottable = df[df['year'] == 1993].to_dict(orient='records')\n",
    "\n",
    "view_state = pdk.ViewState(\n",
    "    latitude=31.0,\n",
    "    longitude=104.5,\n",
    "    zoom=8,\n",
    "    max_zoom=8,\n",
    "    min_zoom=8)\n",
    "scatterplot = pdk.Layer(\n",
    "    'HeatmapLayer',\n",
    "    data=plottable,\n",
    "    get_position='[lng, lat]',\n",
    "    get_weight='brightness', #가중치를 변수 사용해서 두기\n",
    "    opacity=0.5,\n",
    "    pickable=False,\n",
    "    get_radius=800)\n",
    "r = pdk.Deck(\n",
    "    layers=[scatterplot],\n",
    "    initial_view_state=view_state,\n",
    "    views=[pdk.View(type='MapView', controller=None)])\n",
    "r.show()"
   ]
  },
  {
   "cell_type": "code",
   "execution_count": 14,
   "metadata": {},
   "outputs": [
    {
     "data": {
      "application/vnd.jupyter.widget-view+json": {
       "model_id": "8cd70a3e177a42668c0d6f5837dba022",
       "version_major": 2,
       "version_minor": 0
      },
      "text/plain": [
       "IntSlider(value=1993, max=2013, min=1993, step=2)"
      ]
     },
     "metadata": {},
     "output_type": "display_data"
    }
   ],
   "source": [
    "import ipywidgets as widgets\n",
    "from IPython.display import display\n",
    "#연도에 따라 어떻게 변하는지 확인 하기 위해 slider 사용\n",
    "slider = widgets.IntSlider(1992, min=1993, max=2013, step=2)\n",
    "def on_change(v):\n",
    "    results = df[df['year'] == slider.value].to_dict(orient='records')\n",
    "    scatterplot.data = results\n",
    "    r.update()\n",
    "    \n",
    "slider.observe(on_change, names='value')\n",
    "display(slider)"
   ]
  },
  {
   "cell_type": "code",
   "execution_count": 15,
   "metadata": {},
   "outputs": [],
   "source": [
    "#지도를 뛰웠을 때 막대를 찍으면 어떤 데이터인지 알려주는 것\n",
    "tooltip = {\n",
    "   \"html\": \"<b>Elevation Value:</b> {elevationValue}\",\n",
    "   \"style\": {\n",
    "        \"backgroundColor\": \"steelblue\",\n",
    "        \"color\": \"white\"\n",
    "   }\n",
    "}"
   ]
  },
  {
   "attachments": {},
   "cell_type": "markdown",
   "metadata": {},
   "source": [
    "### Tooltip"
   ]
  },
  {
   "cell_type": "code",
   "execution_count": 16,
   "metadata": {},
   "outputs": [
    {
     "data": {
      "application/vnd.jupyter.widget-view+json": {
       "model_id": "38335db6f08e4897bd57daee893a1495",
       "version_major": 2,
       "version_minor": 0
      },
      "text/plain": [
       "DeckGLWidget(carto_key=None, custom_libraries=[], google_maps_key=None, json_input='{\\n  \"initialViewState\": {…"
      ]
     },
     "metadata": {},
     "output_type": "display_data"
    }
   ],
   "source": [
    "import pydeck as pdk\n",
    "\n",
    "layer = pdk.Layer(\n",
    "    'HexagonLayer',\n",
    "    UK_ACCIDENTS_DATA,\n",
    "    get_position='[lng, lat]',\n",
    "    auto_highlight=True,\n",
    "    elevation_scale=50,\n",
    "    pickable=True,\n",
    "    elevation_range=[0, 3000],\n",
    "    extruded=True,\n",
    "    coverage=1)\n",
    "\n",
    "# Set the viewport location\n",
    "view_state = pdk.ViewState(\n",
    "    longitude=-1.415,\n",
    "    latitude=52.2323,\n",
    "    zoom=6,\n",
    "    min_zoom=5,\n",
    "    max_zoom=15,\n",
    "    pitch=40.5,\n",
    "    bearing=-27.36)\n",
    "\n",
    "# Combined all of it and render a viewport\n",
    "r = pdk.Deck(\n",
    "    layers=[layer],\n",
    "    initial_view_state=view_state,\n",
    "    tooltip={\n",
    "        'html': '<b>Elevation Value:</b> {elevationValue}',\n",
    "        'style': {\n",
    "            'color': 'white'  #text 색 정한것\n",
    "        }\n",
    "    }\n",
    ")\n",
    "r.show()"
   ]
  },
  {
   "attachments": {},
   "cell_type": "markdown",
   "metadata": {},
   "source": [
    "- 그냥 텍스트로 하기\n"
   ]
  },
  {
   "cell_type": "code",
   "execution_count": 17,
   "metadata": {},
   "outputs": [
    {
     "data": {
      "application/vnd.jupyter.widget-view+json": {
       "model_id": "4ce5568900414d198bacd824ef12e44d",
       "version_major": 2,
       "version_minor": 0
      },
      "text/plain": [
       "DeckGLWidget(carto_key=None, custom_libraries=[], google_maps_key=None, json_input='{\\n  \"initialViewState\": {…"
      ]
     },
     "metadata": {},
     "output_type": "display_data"
    }
   ],
   "source": [
    "import pydeck as pdk\n",
    "\n",
    "layer = pdk.Layer(\n",
    "    'HexagonLayer',\n",
    "    UK_ACCIDENTS_DATA,\n",
    "    get_position='[lng, lat]',\n",
    "    auto_highlight=True,\n",
    "    elevation_scale=50,\n",
    "    pickable=True,\n",
    "    elevation_range=[0, 3000],\n",
    "    extruded=True,\n",
    "    coverage=1)\n",
    "\n",
    "# Set the viewport location\n",
    "view_state = pdk.ViewState(\n",
    "    longitude=-1.415,\n",
    "    latitude=52.2323,\n",
    "    zoom=6,\n",
    "    min_zoom=5,\n",
    "    max_zoom=15,\n",
    "    pitch=40.5,\n",
    "    bearing=-27.36)\n",
    "\n",
    "# Combined all of it and render a viewport\n",
    "r = pdk.Deck(\n",
    "    layers=[layer],\n",
    "    initial_view_state=view_state,\n",
    "    tooltip = {\n",
    "    \"text\": \"Elevation: {elevationValue}\"  #툽팁 말고 text -> 가독성이 떨어짐 \n",
    "    }   #원하는 text 사용해서 할수 있음\n",
    ")\n",
    "r.show()\n",
    "\n"
   ]
  },
  {
   "attachments": {},
   "cell_type": "markdown",
   "metadata": {},
   "source": [
    "- Tooltip을 그냥 True값만 주기\n"
   ]
  },
  {
   "cell_type": "code",
   "execution_count": null,
   "metadata": {},
   "outputs": [
    {
     "data": {
      "application/vnd.jupyter.widget-view+json": {
       "model_id": "72aed142e33e43579ab6355c66360c64",
       "version_major": 2,
       "version_minor": 0
      },
      "text/plain": [
       "DeckGLWidget(carto_key=None, custom_libraries=[], google_maps_key=None, json_input='{\\n  \"initialViewState\": {…"
      ]
     },
     "metadata": {},
     "output_type": "display_data"
    }
   ],
   "source": [
    "import pydeck as pdk\n",
    "\n",
    "layer = pdk.Layer(\n",
    "    'HexagonLayer',\n",
    "    UK_ACCIDENTS_DATA,\n",
    "    get_position='[lng, lat]',\n",
    "    auto_highlight=True,\n",
    "    elevation_scale=50,\n",
    "    pickable=True,\n",
    "    elevation_range=[0, 3000],\n",
    "    extruded=True,\n",
    "    coverage=1)\n",
    "\n",
    "# Set the viewport location\n",
    "view_state = pdk.ViewState(\n",
    "    longitude=-1.415,\n",
    "    latitude=52.2323,\n",
    "    zoom=6,\n",
    "    min_zoom=5,\n",
    "    max_zoom=15,\n",
    "    pitch=40.5,\n",
    "    bearing=-27.36)\n",
    "\n",
    "# Combined all of it and render a viewport\n",
    "r = pdk.Deck(\n",
    "    layers=[layer],\n",
    "    initial_view_state=view_state,\n",
    "    tooltip=True\n",
    ")\n",
    "r.show()"
   ]
  },
  {
   "cell_type": "code",
   "execution_count": null,
   "metadata": {},
   "outputs": [],
   "source": [
    "UK_ACCIDENTS_DATA = 'https://raw.githubusercontent.com/uber-common/deck.gl-data/master/examples/3d-heatmap/heatmap-data.csv'\n",
    "\n",
    "uk_data = pd.read_csv(UK_ACCIDENTS_DATA)"
   ]
  },
  {
   "cell_type": "code",
   "execution_count": null,
   "metadata": {},
   "outputs": [
    {
     "data": {
      "text/html": [
       "<div>\n",
       "<style scoped>\n",
       "    .dataframe tbody tr th:only-of-type {\n",
       "        vertical-align: middle;\n",
       "    }\n",
       "\n",
       "    .dataframe tbody tr th {\n",
       "        vertical-align: top;\n",
       "    }\n",
       "\n",
       "    .dataframe thead th {\n",
       "        text-align: right;\n",
       "    }\n",
       "</style>\n",
       "<table border=\"1\" class=\"dataframe\">\n",
       "  <thead>\n",
       "    <tr style=\"text-align: right;\">\n",
       "      <th></th>\n",
       "      <th>lng</th>\n",
       "      <th>lat</th>\n",
       "    </tr>\n",
       "  </thead>\n",
       "  <tbody>\n",
       "    <tr>\n",
       "      <th>0</th>\n",
       "      <td>-0.198465</td>\n",
       "      <td>51.505538</td>\n",
       "    </tr>\n",
       "    <tr>\n",
       "      <th>1</th>\n",
       "      <td>-0.178838</td>\n",
       "      <td>51.491836</td>\n",
       "    </tr>\n",
       "    <tr>\n",
       "      <th>2</th>\n",
       "      <td>-0.205590</td>\n",
       "      <td>51.514910</td>\n",
       "    </tr>\n",
       "    <tr>\n",
       "      <th>3</th>\n",
       "      <td>-0.208327</td>\n",
       "      <td>51.514952</td>\n",
       "    </tr>\n",
       "    <tr>\n",
       "      <th>4</th>\n",
       "      <td>-0.206022</td>\n",
       "      <td>51.496572</td>\n",
       "    </tr>\n",
       "  </tbody>\n",
       "</table>\n",
       "</div>"
      ],
      "text/plain": [
       "        lng        lat\n",
       "0 -0.198465  51.505538\n",
       "1 -0.178838  51.491836\n",
       "2 -0.205590  51.514910\n",
       "3 -0.208327  51.514952\n",
       "4 -0.206022  51.496572"
      ]
     },
     "execution_count": 17,
     "metadata": {},
     "output_type": "execute_result"
    }
   ],
   "source": [
    "uk_data.head()"
   ]
  },
  {
   "attachments": {},
   "cell_type": "markdown",
   "metadata": {},
   "source": [
    "### 미국 택시 데이터 시각화"
   ]
  },
  {
   "cell_type": "code",
   "execution_count": null,
   "metadata": {},
   "outputs": [
    {
     "name": "stdout",
     "output_type": "stream",
     "text": [
      "Collecting pandas-gbq\n",
      "  Downloading pandas_gbq-0.19.2-py2.py3-none-any.whl (25 kB)\n",
      "Collecting db-dtypes<2.0.0,>=1.0.4\n",
      "  Downloading db_dtypes-1.1.1-py2.py3-none-any.whl (14 kB)\n",
      "Collecting pyarrow>=3.0.0\n",
      "  Downloading pyarrow-12.0.0-cp38-cp38-win_amd64.whl (21.5 MB)\n",
      "     -------------------------------------- 21.5/21.5 MB 500.1 kB/s eta 0:00:00\n",
      "Collecting google-auth-oauthlib>=0.7.0\n",
      "  Downloading google_auth_oauthlib-1.0.0-py2.py3-none-any.whl (18 kB)\n",
      "Collecting google-cloud-bigquery-storage<3.0.0dev,>=2.16.2\n",
      "  Downloading google_cloud_bigquery_storage-2.19.1-py2.py3-none-any.whl (190 kB)\n",
      "     ------------------------------------ 190.1/190.1 kB 501.0 kB/s eta 0:00:00\n",
      "Requirement already satisfied: pandas>=1.1.4 in c:\\python\\lib\\site-packages (from pandas-gbq) (1.5.2)\n",
      "Collecting google-cloud-bigquery!=2.4.*,<4.0.0dev,>=3.3.5\n",
      "  Downloading google_cloud_bigquery-3.10.0-py2.py3-none-any.whl (218 kB)\n",
      "     ------------------------------------ 218.4/218.4 kB 459.4 kB/s eta 0:00:00\n",
      "Collecting pydata-google-auth>=1.5.0\n",
      "  Downloading pydata_google_auth-1.8.0-py2.py3-none-any.whl (14 kB)\n",
      "Collecting google-api-core<3.0.0dev,>=2.10.2\n",
      "  Downloading google_api_core-2.11.0-py3-none-any.whl (120 kB)\n",
      "     ------------------------------------ 120.3/120.3 kB 542.4 kB/s eta 0:00:00\n",
      "Requirement already satisfied: setuptools in c:\\python\\lib\\site-packages (from pandas-gbq) (52.0.0.post20210125)\n",
      "Requirement already satisfied: numpy>=1.16.6 in c:\\python\\lib\\site-packages (from pandas-gbq) (1.23.5)\n",
      "Collecting google-auth>=2.13.0\n",
      "  Downloading google_auth-2.18.1-py2.py3-none-any.whl (178 kB)\n",
      "     ------------------------------------ 178.9/178.9 kB 431.2 kB/s eta 0:00:00\n",
      "Requirement already satisfied: packaging>=17.0 in c:\\python\\lib\\site-packages (from db-dtypes<2.0.0,>=1.0.4->pandas-gbq) (21.3)\n",
      "Collecting googleapis-common-protos<2.0dev,>=1.56.2\n",
      "  Downloading googleapis_common_protos-1.59.0-py2.py3-none-any.whl (223 kB)\n",
      "     ------------------------------------ 223.6/223.6 kB 471.0 kB/s eta 0:00:00\n",
      "Requirement already satisfied: requests<3.0.0dev,>=2.18.0 in c:\\python\\lib\\site-packages (from google-api-core<3.0.0dev,>=2.10.2->pandas-gbq) (2.25.1)\n",
      "Collecting protobuf!=3.20.0,!=3.20.1,!=4.21.0,!=4.21.1,!=4.21.2,!=4.21.3,!=4.21.4,!=4.21.5,<5.0.0dev,>=3.19.5\n",
      "  Downloading protobuf-4.23.1-cp38-cp38-win_amd64.whl (422 kB)\n",
      "     ------------------------------------ 422.5/422.5 kB 560.9 kB/s eta 0:00:00\n",
      "Collecting pyasn1-modules>=0.2.1\n",
      "  Downloading pyasn1_modules-0.3.0-py2.py3-none-any.whl (181 kB)\n",
      "     ------------------------------------ 181.3/181.3 kB 781.1 kB/s eta 0:00:00\n",
      "Requirement already satisfied: urllib3<2.0 in c:\\python\\lib\\site-packages (from google-auth>=2.13.0->pandas-gbq) (1.26.4)\n",
      "Collecting cachetools<6.0,>=2.0.0\n",
      "  Downloading cachetools-5.3.0-py3-none-any.whl (9.3 kB)\n",
      "Requirement already satisfied: six>=1.9.0 in c:\\python\\lib\\site-packages (from google-auth>=2.13.0->pandas-gbq) (1.15.0)\n",
      "Collecting rsa<5,>=3.1.4\n",
      "  Downloading rsa-4.9-py3-none-any.whl (34 kB)\n",
      "Collecting requests-oauthlib>=0.7.0\n",
      "  Downloading requests_oauthlib-1.3.1-py2.py3-none-any.whl (23 kB)\n",
      "Requirement already satisfied: python-dateutil<3.0dev,>=2.7.2 in c:\\python\\lib\\site-packages (from google-cloud-bigquery!=2.4.*,<4.0.0dev,>=3.3.5->pandas-gbq) (2.8.1)\n",
      "Collecting proto-plus<2.0.0dev,>=1.15.0\n",
      "  Downloading proto_plus-1.22.2-py3-none-any.whl (47 kB)\n",
      "     -------------------------------------- 47.9/47.9 kB 597.7 kB/s eta 0:00:00\n",
      "Collecting google-resumable-media<3.0dev,>=0.6.0\n",
      "  Downloading google_resumable_media-2.5.0-py2.py3-none-any.whl (77 kB)\n",
      "     -------------------------------------- 77.7/77.7 kB 865.4 kB/s eta 0:00:00\n",
      "Collecting grpcio<2.0dev,>=1.47.0\n",
      "  Downloading grpcio-1.54.2-cp38-cp38-win_amd64.whl (4.1 MB)\n",
      "     ---------------------------------------- 4.1/4.1 MB 677.5 kB/s eta 0:00:00\n",
      "Collecting google-cloud-core<3.0.0dev,>=1.6.0\n",
      "  Downloading google_cloud_core-2.3.2-py2.py3-none-any.whl (29 kB)\n",
      "Requirement already satisfied: pytz>=2020.1 in c:\\python\\lib\\site-packages (from pandas>=1.1.4->pandas-gbq) (2021.1)\n",
      "Collecting grpcio-status<2.0dev,>=1.33.2\n",
      "  Downloading grpcio_status-1.54.2-py3-none-any.whl (5.1 kB)\n",
      "Collecting google-crc32c<2.0dev,>=1.0\n",
      "  Downloading google_crc32c-1.5.0-cp38-cp38-win_amd64.whl (27 kB)\n",
      "Requirement already satisfied: pyparsing!=3.0.5,>=2.0.2 in c:\\python\\lib\\site-packages (from packaging>=17.0->db-dtypes<2.0.0,>=1.0.4->pandas-gbq) (2.4.7)\n",
      "Collecting pyasn1<0.6.0,>=0.4.6\n",
      "  Downloading pyasn1-0.5.0-py2.py3-none-any.whl (83 kB)\n",
      "     -------------------------------------- 83.9/83.9 kB 471.9 kB/s eta 0:00:00\n",
      "Requirement already satisfied: certifi>=2017.4.17 in c:\\python\\lib\\site-packages (from requests<3.0.0dev,>=2.18.0->google-api-core<3.0.0dev,>=2.10.2->pandas-gbq) (2022.9.24)\n",
      "Requirement already satisfied: idna<3,>=2.5 in c:\\python\\lib\\site-packages (from requests<3.0.0dev,>=2.18.0->google-api-core<3.0.0dev,>=2.10.2->pandas-gbq) (2.10)\n",
      "Requirement already satisfied: chardet<5,>=3.0.2 in c:\\python\\lib\\site-packages (from requests<3.0.0dev,>=2.18.0->google-api-core<3.0.0dev,>=2.10.2->pandas-gbq) (4.0.0)\n",
      "Collecting oauthlib>=3.0.0\n",
      "  Downloading oauthlib-3.2.2-py3-none-any.whl (151 kB)\n",
      "     ------------------------------------ 151.7/151.7 kB 282.9 kB/s eta 0:00:00\n",
      "Installing collected packages: pyasn1, pyarrow, protobuf, oauthlib, grpcio, google-crc32c, cachetools, rsa, requests-oauthlib, pyasn1-modules, proto-plus, googleapis-common-protos, google-resumable-media, grpcio-status, google-auth, db-dtypes, google-auth-oauthlib, google-api-core, pydata-google-auth, google-cloud-core, google-cloud-bigquery-storage, google-cloud-bigquery, pandas-gbq\n",
      "Successfully installed cachetools-5.3.0 db-dtypes-1.1.1 google-api-core-2.11.0 google-auth-2.18.1 google-auth-oauthlib-1.0.0 google-cloud-bigquery-3.10.0 google-cloud-bigquery-storage-2.19.1 google-cloud-core-2.3.2 google-crc32c-1.5.0 google-resumable-media-2.5.0 googleapis-common-protos-1.59.0 grpcio-1.54.2 grpcio-status-1.54.2 oauthlib-3.2.2 pandas-gbq-0.19.2 proto-plus-1.22.2 protobuf-4.23.1 pyarrow-12.0.0 pyasn1-0.5.0 pyasn1-modules-0.3.0 pydata-google-auth-1.8.0 requests-oauthlib-1.3.1 rsa-4.9\n",
      "Note: you may need to restart the kernel to use updated packages.\n"
     ]
    },
    {
     "name": "stderr",
     "output_type": "stream",
     "text": [
      "\n",
      "[notice] A new release of pip available: 22.3.1 -> 23.1.2\n",
      "[notice] To update, run: python.exe -m pip install --upgrade pip\n"
     ]
    }
   ],
   "source": [
    "pip install pandas-gbq -U"
   ]
  },
  {
   "cell_type": "code",
   "execution_count": null,
   "metadata": {},
   "outputs": [
    {
     "ename": "ModuleNotFoundError",
     "evalue": "No module named 'pydata_google_auth'",
     "output_type": "error",
     "traceback": [
      "\u001b[1;31m---------------------------------------------------------------------------\u001b[0m",
      "\u001b[1;31mModuleNotFoundError\u001b[0m                       Traceback (most recent call last)",
      "\u001b[1;32m<ipython-input-22-9afe354c8e56>\u001b[0m in \u001b[0;36m<module>\u001b[1;34m\u001b[0m\n\u001b[0;32m      1\u001b[0m \u001b[1;32mimport\u001b[0m \u001b[0mpandas\u001b[0m \u001b[1;32mas\u001b[0m \u001b[0mpd\u001b[0m\u001b[1;33m\u001b[0m\u001b[1;33m\u001b[0m\u001b[0m\n\u001b[1;32m----> 2\u001b[1;33m \u001b[1;32mimport\u001b[0m \u001b[0mpydata_google_auth\u001b[0m\u001b[1;33m\u001b[0m\u001b[1;33m\u001b[0m\u001b[0m\n\u001b[0m\u001b[0;32m      3\u001b[0m \u001b[1;33m\u001b[0m\u001b[0m\n\u001b[0;32m      4\u001b[0m SCOPES = [\n\u001b[0;32m      5\u001b[0m   \u001b[1;34m'https://www.googleapis.com/auth/cloud-platform'\u001b[0m\u001b[1;33m,\u001b[0m\u001b[1;33m\u001b[0m\u001b[1;33m\u001b[0m\u001b[0m\n",
      "\u001b[1;31mModuleNotFoundError\u001b[0m: No module named 'pydata_google_auth'"
     ]
    }
   ],
   "source": [
    "import pandas as pd\n",
    "import pydata_google_auth\n",
    "\n",
    "SCOPES = [\n",
    "  'https://www.googleapis.com/auth/cloud-platform',\n",
    "  'https://www.googleapis.com/auth/drive',\n",
    "  'https://www.googleapis.com/auth/bigquery'\n",
    "]\n",
    "\n",
    "credentials = pydata_google_auth.get_user_credentials(\n",
    "SCOPES, auth_local_webserver=True)"
   ]
  },
  {
   "cell_type": "code",
   "execution_count": null,
   "metadata": {},
   "outputs": [],
   "source": [
    "query = \"\"\"\n",
    "SELECT \n",
    "    *\n",
    "FROM `bigquery-public-data.new_york_taxi_trips.tlc_yellow_trips_2015` \n",
    "WHERE EXTRACT(MONTH from pickup_datetime) = 1\n",
    "LIMIT 10000\n",
    "\"\"\""
   ]
  },
  {
   "cell_type": "code",
   "execution_count": null,
   "metadata": {},
   "outputs": [
    {
     "name": "stdout",
     "output_type": "stream",
     "text": [
      "Wall time: 6.7 s\n"
     ]
    }
   ],
   "source": [
    "#%%time\n",
    "taxi_df = pd.read_gbq(query=query, dialect='standard', project_id='persuasive-zoo-147513', credentials=credentials)"
   ]
  },
  {
   "cell_type": "code",
   "execution_count": null,
   "metadata": {},
   "outputs": [
    {
     "data": {
      "text/html": [
       "<div>\n",
       "<style scoped>\n",
       "    .dataframe tbody tr th:only-of-type {\n",
       "        vertical-align: middle;\n",
       "    }\n",
       "\n",
       "    .dataframe tbody tr th {\n",
       "        vertical-align: top;\n",
       "    }\n",
       "\n",
       "    .dataframe thead th {\n",
       "        text-align: right;\n",
       "    }\n",
       "</style>\n",
       "<table border=\"1\" class=\"dataframe\">\n",
       "  <thead>\n",
       "    <tr style=\"text-align: right;\">\n",
       "      <th></th>\n",
       "      <th>vendor_id</th>\n",
       "      <th>pickup_datetime</th>\n",
       "      <th>dropoff_datetime</th>\n",
       "      <th>passenger_count</th>\n",
       "      <th>trip_distance</th>\n",
       "      <th>pickup_longitude</th>\n",
       "      <th>pickup_latitude</th>\n",
       "      <th>rate_code</th>\n",
       "      <th>store_and_fwd_flag</th>\n",
       "      <th>dropoff_longitude</th>\n",
       "      <th>dropoff_latitude</th>\n",
       "      <th>payment_type</th>\n",
       "      <th>fare_amount</th>\n",
       "      <th>extra</th>\n",
       "      <th>mta_tax</th>\n",
       "      <th>tip_amount</th>\n",
       "      <th>tolls_amount</th>\n",
       "      <th>imp_surcharge</th>\n",
       "      <th>total_amount</th>\n",
       "    </tr>\n",
       "  </thead>\n",
       "  <tbody>\n",
       "    <tr>\n",
       "      <th>0</th>\n",
       "      <td>1</td>\n",
       "      <td>2015-01-02 16:26:22</td>\n",
       "      <td>2015-01-02 16:51:10</td>\n",
       "      <td>2</td>\n",
       "      <td>2.50</td>\n",
       "      <td>-73.993172</td>\n",
       "      <td>40.762901</td>\n",
       "      <td>&lt;NA&gt;</td>\n",
       "      <td>N</td>\n",
       "      <td>-73.962097</td>\n",
       "      <td>40.763584</td>\n",
       "      <td>1</td>\n",
       "      <td>15.7</td>\n",
       "      <td>1.0</td>\n",
       "      <td>0.5</td>\n",
       "      <td>3.50</td>\n",
       "      <td>0.0</td>\n",
       "      <td>0.0</td>\n",
       "      <td>21.00</td>\n",
       "    </tr>\n",
       "    <tr>\n",
       "      <th>1</th>\n",
       "      <td>1</td>\n",
       "      <td>2015-01-16 17:13:00</td>\n",
       "      <td>2015-01-16 17:16:10</td>\n",
       "      <td>1</td>\n",
       "      <td>0.40</td>\n",
       "      <td>-73.961601</td>\n",
       "      <td>40.771229</td>\n",
       "      <td>&lt;NA&gt;</td>\n",
       "      <td>N</td>\n",
       "      <td>-73.959419</td>\n",
       "      <td>40.775253</td>\n",
       "      <td>1</td>\n",
       "      <td>4.0</td>\n",
       "      <td>1.0</td>\n",
       "      <td>0.5</td>\n",
       "      <td>1.15</td>\n",
       "      <td>0.0</td>\n",
       "      <td>0.3</td>\n",
       "      <td>6.95</td>\n",
       "    </tr>\n",
       "    <tr>\n",
       "      <th>2</th>\n",
       "      <td>2</td>\n",
       "      <td>2015-01-24 04:25:01</td>\n",
       "      <td>2015-01-24 04:41:43</td>\n",
       "      <td>2</td>\n",
       "      <td>4.64</td>\n",
       "      <td>-74.000595</td>\n",
       "      <td>40.737167</td>\n",
       "      <td>&lt;NA&gt;</td>\n",
       "      <td>N</td>\n",
       "      <td>-73.995499</td>\n",
       "      <td>40.680763</td>\n",
       "      <td>1</td>\n",
       "      <td>16.0</td>\n",
       "      <td>0.5</td>\n",
       "      <td>0.5</td>\n",
       "      <td>19.50</td>\n",
       "      <td>0.0</td>\n",
       "      <td>0.3</td>\n",
       "      <td>36.80</td>\n",
       "    </tr>\n",
       "    <tr>\n",
       "      <th>3</th>\n",
       "      <td>2</td>\n",
       "      <td>2015-01-30 14:29:58</td>\n",
       "      <td>2015-01-30 15:27:13</td>\n",
       "      <td>1</td>\n",
       "      <td>18.39</td>\n",
       "      <td>-73.989914</td>\n",
       "      <td>40.729706</td>\n",
       "      <td>&lt;NA&gt;</td>\n",
       "      <td>N</td>\n",
       "      <td>-73.782310</td>\n",
       "      <td>40.644180</td>\n",
       "      <td>1</td>\n",
       "      <td>52.0</td>\n",
       "      <td>0.0</td>\n",
       "      <td>0.5</td>\n",
       "      <td>5.50</td>\n",
       "      <td>0.0</td>\n",
       "      <td>0.3</td>\n",
       "      <td>58.30</td>\n",
       "    </tr>\n",
       "    <tr>\n",
       "      <th>4</th>\n",
       "      <td>1</td>\n",
       "      <td>2015-01-14 21:24:13</td>\n",
       "      <td>2015-01-14 21:25:55</td>\n",
       "      <td>1</td>\n",
       "      <td>0.50</td>\n",
       "      <td>-73.954849</td>\n",
       "      <td>40.773220</td>\n",
       "      <td>&lt;NA&gt;</td>\n",
       "      <td>N</td>\n",
       "      <td>-73.959801</td>\n",
       "      <td>40.769432</td>\n",
       "      <td>1</td>\n",
       "      <td>3.5</td>\n",
       "      <td>0.5</td>\n",
       "      <td>0.5</td>\n",
       "      <td>0.96</td>\n",
       "      <td>0.0</td>\n",
       "      <td>0.3</td>\n",
       "      <td>5.76</td>\n",
       "    </tr>\n",
       "    <tr>\n",
       "      <th>...</th>\n",
       "      <td>...</td>\n",
       "      <td>...</td>\n",
       "      <td>...</td>\n",
       "      <td>...</td>\n",
       "      <td>...</td>\n",
       "      <td>...</td>\n",
       "      <td>...</td>\n",
       "      <td>...</td>\n",
       "      <td>...</td>\n",
       "      <td>...</td>\n",
       "      <td>...</td>\n",
       "      <td>...</td>\n",
       "      <td>...</td>\n",
       "      <td>...</td>\n",
       "      <td>...</td>\n",
       "      <td>...</td>\n",
       "      <td>...</td>\n",
       "      <td>...</td>\n",
       "      <td>...</td>\n",
       "    </tr>\n",
       "    <tr>\n",
       "      <th>9995</th>\n",
       "      <td>1</td>\n",
       "      <td>2015-01-24 22:49:17</td>\n",
       "      <td>2015-01-24 22:56:20</td>\n",
       "      <td>2</td>\n",
       "      <td>0.70</td>\n",
       "      <td>-74.004578</td>\n",
       "      <td>40.724056</td>\n",
       "      <td>&lt;NA&gt;</td>\n",
       "      <td>N</td>\n",
       "      <td>-74.006958</td>\n",
       "      <td>40.732971</td>\n",
       "      <td>1</td>\n",
       "      <td>6.0</td>\n",
       "      <td>0.5</td>\n",
       "      <td>0.5</td>\n",
       "      <td>1.80</td>\n",
       "      <td>0.0</td>\n",
       "      <td>0.3</td>\n",
       "      <td>9.10</td>\n",
       "    </tr>\n",
       "    <tr>\n",
       "      <th>9996</th>\n",
       "      <td>2</td>\n",
       "      <td>2015-01-21 18:20:27</td>\n",
       "      <td>2015-01-21 18:30:16</td>\n",
       "      <td>6</td>\n",
       "      <td>1.14</td>\n",
       "      <td>-74.000038</td>\n",
       "      <td>40.748291</td>\n",
       "      <td>&lt;NA&gt;</td>\n",
       "      <td>N</td>\n",
       "      <td>-73.990608</td>\n",
       "      <td>40.738071</td>\n",
       "      <td>1</td>\n",
       "      <td>8.0</td>\n",
       "      <td>1.0</td>\n",
       "      <td>0.5</td>\n",
       "      <td>1.80</td>\n",
       "      <td>0.0</td>\n",
       "      <td>0.3</td>\n",
       "      <td>11.60</td>\n",
       "    </tr>\n",
       "    <tr>\n",
       "      <th>9997</th>\n",
       "      <td>2</td>\n",
       "      <td>2015-01-09 20:35:23</td>\n",
       "      <td>2015-01-09 20:43:55</td>\n",
       "      <td>1</td>\n",
       "      <td>2.00</td>\n",
       "      <td>-73.974876</td>\n",
       "      <td>40.748661</td>\n",
       "      <td>&lt;NA&gt;</td>\n",
       "      <td>N</td>\n",
       "      <td>-73.980530</td>\n",
       "      <td>40.768021</td>\n",
       "      <td>1</td>\n",
       "      <td>8.5</td>\n",
       "      <td>0.5</td>\n",
       "      <td>0.5</td>\n",
       "      <td>1.80</td>\n",
       "      <td>0.0</td>\n",
       "      <td>0.3</td>\n",
       "      <td>11.60</td>\n",
       "    </tr>\n",
       "    <tr>\n",
       "      <th>9998</th>\n",
       "      <td>2</td>\n",
       "      <td>2015-01-31 22:01:33</td>\n",
       "      <td>2015-01-31 22:11:22</td>\n",
       "      <td>1</td>\n",
       "      <td>1.42</td>\n",
       "      <td>-73.984718</td>\n",
       "      <td>40.728447</td>\n",
       "      <td>&lt;NA&gt;</td>\n",
       "      <td>N</td>\n",
       "      <td>-73.975380</td>\n",
       "      <td>40.745564</td>\n",
       "      <td>1</td>\n",
       "      <td>8.5</td>\n",
       "      <td>0.5</td>\n",
       "      <td>0.5</td>\n",
       "      <td>1.80</td>\n",
       "      <td>0.0</td>\n",
       "      <td>0.3</td>\n",
       "      <td>11.60</td>\n",
       "    </tr>\n",
       "    <tr>\n",
       "      <th>9999</th>\n",
       "      <td>2</td>\n",
       "      <td>2015-01-13 13:40:14</td>\n",
       "      <td>2015-01-13 13:51:28</td>\n",
       "      <td>5</td>\n",
       "      <td>1.57</td>\n",
       "      <td>-73.981232</td>\n",
       "      <td>40.747498</td>\n",
       "      <td>&lt;NA&gt;</td>\n",
       "      <td>N</td>\n",
       "      <td>-73.998116</td>\n",
       "      <td>40.733883</td>\n",
       "      <td>1</td>\n",
       "      <td>9.0</td>\n",
       "      <td>0.0</td>\n",
       "      <td>0.5</td>\n",
       "      <td>1.80</td>\n",
       "      <td>0.0</td>\n",
       "      <td>0.3</td>\n",
       "      <td>11.60</td>\n",
       "    </tr>\n",
       "  </tbody>\n",
       "</table>\n",
       "<p>10000 rows × 19 columns</p>\n",
       "</div>"
      ],
      "text/plain": [
       "     vendor_id     pickup_datetime    dropoff_datetime  passenger_count  \\\n",
       "0            1 2015-01-02 16:26:22 2015-01-02 16:51:10                2   \n",
       "1            1 2015-01-16 17:13:00 2015-01-16 17:16:10                1   \n",
       "2            2 2015-01-24 04:25:01 2015-01-24 04:41:43                2   \n",
       "3            2 2015-01-30 14:29:58 2015-01-30 15:27:13                1   \n",
       "4            1 2015-01-14 21:24:13 2015-01-14 21:25:55                1   \n",
       "...        ...                 ...                 ...              ...   \n",
       "9995         1 2015-01-24 22:49:17 2015-01-24 22:56:20                2   \n",
       "9996         2 2015-01-21 18:20:27 2015-01-21 18:30:16                6   \n",
       "9997         2 2015-01-09 20:35:23 2015-01-09 20:43:55                1   \n",
       "9998         2 2015-01-31 22:01:33 2015-01-31 22:11:22                1   \n",
       "9999         2 2015-01-13 13:40:14 2015-01-13 13:51:28                5   \n",
       "\n",
       "      trip_distance  pickup_longitude  pickup_latitude  rate_code  \\\n",
       "0              2.50        -73.993172        40.762901       <NA>   \n",
       "1              0.40        -73.961601        40.771229       <NA>   \n",
       "2              4.64        -74.000595        40.737167       <NA>   \n",
       "3             18.39        -73.989914        40.729706       <NA>   \n",
       "4              0.50        -73.954849        40.773220       <NA>   \n",
       "...             ...               ...              ...        ...   \n",
       "9995           0.70        -74.004578        40.724056       <NA>   \n",
       "9996           1.14        -74.000038        40.748291       <NA>   \n",
       "9997           2.00        -73.974876        40.748661       <NA>   \n",
       "9998           1.42        -73.984718        40.728447       <NA>   \n",
       "9999           1.57        -73.981232        40.747498       <NA>   \n",
       "\n",
       "     store_and_fwd_flag  dropoff_longitude  dropoff_latitude payment_type  \\\n",
       "0                     N         -73.962097         40.763584            1   \n",
       "1                     N         -73.959419         40.775253            1   \n",
       "2                     N         -73.995499         40.680763            1   \n",
       "3                     N         -73.782310         40.644180            1   \n",
       "4                     N         -73.959801         40.769432            1   \n",
       "...                 ...                ...               ...          ...   \n",
       "9995                  N         -74.006958         40.732971            1   \n",
       "9996                  N         -73.990608         40.738071            1   \n",
       "9997                  N         -73.980530         40.768021            1   \n",
       "9998                  N         -73.975380         40.745564            1   \n",
       "9999                  N         -73.998116         40.733883            1   \n",
       "\n",
       "      fare_amount  extra  mta_tax  tip_amount  tolls_amount  imp_surcharge  \\\n",
       "0            15.7    1.0      0.5        3.50           0.0            0.0   \n",
       "1             4.0    1.0      0.5        1.15           0.0            0.3   \n",
       "2            16.0    0.5      0.5       19.50           0.0            0.3   \n",
       "3            52.0    0.0      0.5        5.50           0.0            0.3   \n",
       "4             3.5    0.5      0.5        0.96           0.0            0.3   \n",
       "...           ...    ...      ...         ...           ...            ...   \n",
       "9995          6.0    0.5      0.5        1.80           0.0            0.3   \n",
       "9996          8.0    1.0      0.5        1.80           0.0            0.3   \n",
       "9997          8.5    0.5      0.5        1.80           0.0            0.3   \n",
       "9998          8.5    0.5      0.5        1.80           0.0            0.3   \n",
       "9999          9.0    0.0      0.5        1.80           0.0            0.3   \n",
       "\n",
       "      total_amount  \n",
       "0            21.00  \n",
       "1             6.95  \n",
       "2            36.80  \n",
       "3            58.30  \n",
       "4             5.76  \n",
       "...            ...  \n",
       "9995          9.10  \n",
       "9996         11.60  \n",
       "9997         11.60  \n",
       "9998         11.60  \n",
       "9999         11.60  \n",
       "\n",
       "[10000 rows x 19 columns]"
      ]
     },
     "execution_count": 49,
     "metadata": {},
     "output_type": "execute_result"
    }
   ],
   "source": [
    "taxi_df"
   ]
  },
  {
   "attachments": {},
   "cell_type": "markdown",
   "metadata": {},
   "source": [
    "### GridLayer\n",
    "- 10만개 데이터"
   ]
  },
  {
   "cell_type": "code",
   "execution_count": null,
   "metadata": {},
   "outputs": [
    {
     "data": {
      "application/vnd.jupyter.widget-view+json": {
       "model_id": "460e38d1c91046c0822cff36f4ce22eb",
       "version_major": 2,
       "version_minor": 0
      },
      "text/plain": [
       "DeckGLWidget(carto_key=None, custom_libraries=[], google_maps_key=None, json_input='{\"initialViewState\": {\"lat…"
      ]
     },
     "metadata": {},
     "output_type": "display_data"
    }
   ],
   "source": [
    "arc_layer = pdk.Layer(\n",
    "    'GridLayer',\n",
    "    taxi_df,\n",
    "    get_position='[pickup_longitude, pickup_latitude]',\n",
    "    pickable=True, \n",
    "    auto_highlight=True,\n",
    "    tooltip=True\n",
    ")\n",
    "\n",
    "nyc_center = [-73.9808, 40.7648] \n",
    "view_state = pdk.ViewState(longitude=nyc_center[0], latitude=nyc_center[1], zoom=9)\n",
    "\n",
    "r = pdk.Deck(layers=[arc_layer], initial_view_state=view_state)\n",
    "r.show()"
   ]
  },
  {
   "attachments": {},
   "cell_type": "markdown",
   "metadata": {},
   "source": [
    "### Arc Layer"
   ]
  },
  {
   "cell_type": "code",
   "execution_count": null,
   "metadata": {},
   "outputs": [],
   "source": [
    "zip_code_query = \"\"\"\n",
    "WITH base_data AS \n",
    "(\n",
    "  SELECT \n",
    "    nyc_taxi.*, \n",
    "    pickup.zip_code as pickup_zip_code,\n",
    "    pickup.internal_point_lat as pickup_zip_code_lat,\n",
    "    pickup.internal_point_lon as pickup_zip_code_lon,\n",
    "    dropoff.zip_code as dropoff_zip_code,\n",
    "    dropoff.internal_point_lat as dropoff_zip_code_lat,\n",
    "    dropoff.internal_point_lon as dropoff_zip_code_lon\n",
    "  FROM (\n",
    "    SELECT *\n",
    "    FROM `bigquery-public-data.new_york_taxi_trips.tlc_yellow_trips_2015`\n",
    "    WHERE \n",
    "        EXTRACT(MONTH from pickup_datetime) = 1\n",
    "        and pickup_latitude <= 90 and pickup_latitude >= -90\n",
    "        and dropoff_latitude <= 90 and dropoff_latitude >= -90\n",
    "    ) AS nyc_taxi\n",
    "  JOIN (\n",
    "    SELECT zip_code, state_code, state_name, city, county, zip_code_geom, internal_point_lat, internal_point_lon \n",
    "    FROM `bigquery-public-data.geo_us_boundaries.zip_codes`\n",
    "    WHERE state_code='NY'\n",
    "    ) AS pickup \n",
    "  ON ST_CONTAINS(pickup.zip_code_geom, st_geogpoint(pickup_longitude, pickup_latitude))\n",
    "  JOIN (\n",
    "    SELECT zip_code, state_code, state_name, city, county, zip_code_geom, internal_point_lat, internal_point_lon \n",
    "    FROM `bigquery-public-data.geo_us_boundaries.zip_codes`\n",
    "    WHERE state_code='NY' \n",
    "    ) AS dropoff\n",
    "  ON ST_CONTAINS(dropoff.zip_code_geom, st_geogpoint(dropoff_longitude, dropoff_latitude))\n",
    "  \n",
    ")\n",
    "\n",
    "SELECT \n",
    "  *\n",
    "FROM base_data \n",
    "limit 10000\n",
    "\"\"\""
   ]
  },
  {
   "cell_type": "code",
   "execution_count": null,
   "metadata": {},
   "outputs": [
    {
     "name": "stdout",
     "output_type": "stream",
     "text": [
      "Wall time: 36.5 s\n"
     ]
    }
   ],
   "source": [
    "%%time\n",
    "taxi_df_by_zipcode = pd.read_gbq(query=zip_code_query, dialect='standard', project_id='persuasive-zoo-147513', credentials=credentials)"
   ]
  },
  {
   "cell_type": "code",
   "execution_count": null,
   "metadata": {},
   "outputs": [
    {
     "data": {
      "text/html": [
       "<div>\n",
       "<style scoped>\n",
       "    .dataframe tbody tr th:only-of-type {\n",
       "        vertical-align: middle;\n",
       "    }\n",
       "\n",
       "    .dataframe tbody tr th {\n",
       "        vertical-align: top;\n",
       "    }\n",
       "\n",
       "    .dataframe thead th {\n",
       "        text-align: right;\n",
       "    }\n",
       "</style>\n",
       "<table border=\"1\" class=\"dataframe\">\n",
       "  <thead>\n",
       "    <tr style=\"text-align: right;\">\n",
       "      <th></th>\n",
       "      <th>vendor_id</th>\n",
       "      <th>pickup_datetime</th>\n",
       "      <th>dropoff_datetime</th>\n",
       "      <th>passenger_count</th>\n",
       "      <th>trip_distance</th>\n",
       "      <th>pickup_longitude</th>\n",
       "      <th>pickup_latitude</th>\n",
       "      <th>rate_code</th>\n",
       "      <th>store_and_fwd_flag</th>\n",
       "      <th>dropoff_longitude</th>\n",
       "      <th>...</th>\n",
       "      <th>tip_amount</th>\n",
       "      <th>tolls_amount</th>\n",
       "      <th>imp_surcharge</th>\n",
       "      <th>total_amount</th>\n",
       "      <th>pickup_zip_code</th>\n",
       "      <th>pickup_zip_code_lat</th>\n",
       "      <th>pickup_zip_code_lon</th>\n",
       "      <th>dropoff_zip_code</th>\n",
       "      <th>dropoff_zip_code_lat</th>\n",
       "      <th>dropoff_zip_code_lon</th>\n",
       "    </tr>\n",
       "  </thead>\n",
       "  <tbody>\n",
       "    <tr>\n",
       "      <th>0</th>\n",
       "      <td>2</td>\n",
       "      <td>2015-01-20 09:57:47</td>\n",
       "      <td>2015-01-20 10:14:24</td>\n",
       "      <td>1</td>\n",
       "      <td>2.54</td>\n",
       "      <td>-74.014793</td>\n",
       "      <td>40.714111</td>\n",
       "      <td>&lt;NA&gt;</td>\n",
       "      <td>N</td>\n",
       "      <td>-73.991997</td>\n",
       "      <td>...</td>\n",
       "      <td>2.5</td>\n",
       "      <td>0.0</td>\n",
       "      <td>0.3</td>\n",
       "      <td>15.8</td>\n",
       "      <td>10280</td>\n",
       "      <td>40.709073</td>\n",
       "      <td>-74.016423</td>\n",
       "      <td>10003</td>\n",
       "      <td>40.731829</td>\n",
       "      <td>-73.989181</td>\n",
       "    </tr>\n",
       "    <tr>\n",
       "      <th>1</th>\n",
       "      <td>1</td>\n",
       "      <td>2015-01-15 04:50:46</td>\n",
       "      <td>2015-01-15 05:01:29</td>\n",
       "      <td>1</td>\n",
       "      <td>2.30</td>\n",
       "      <td>-74.015938</td>\n",
       "      <td>40.710976</td>\n",
       "      <td>&lt;NA&gt;</td>\n",
       "      <td>N</td>\n",
       "      <td>-73.996552</td>\n",
       "      <td>...</td>\n",
       "      <td>0.0</td>\n",
       "      <td>0.0</td>\n",
       "      <td>0.3</td>\n",
       "      <td>11.3</td>\n",
       "      <td>10280</td>\n",
       "      <td>40.709073</td>\n",
       "      <td>-74.016423</td>\n",
       "      <td>10011</td>\n",
       "      <td>40.742043</td>\n",
       "      <td>-74.000620</td>\n",
       "    </tr>\n",
       "    <tr>\n",
       "      <th>2</th>\n",
       "      <td>2</td>\n",
       "      <td>2015-01-22 09:31:00</td>\n",
       "      <td>2015-01-22 09:50:42</td>\n",
       "      <td>1</td>\n",
       "      <td>4.13</td>\n",
       "      <td>-73.989738</td>\n",
       "      <td>40.701981</td>\n",
       "      <td>&lt;NA&gt;</td>\n",
       "      <td>N</td>\n",
       "      <td>-74.007828</td>\n",
       "      <td>...</td>\n",
       "      <td>2.0</td>\n",
       "      <td>0.0</td>\n",
       "      <td>0.3</td>\n",
       "      <td>19.8</td>\n",
       "      <td>11201</td>\n",
       "      <td>40.693700</td>\n",
       "      <td>-73.989859</td>\n",
       "      <td>10011</td>\n",
       "      <td>40.742043</td>\n",
       "      <td>-74.000620</td>\n",
       "    </tr>\n",
       "  </tbody>\n",
       "</table>\n",
       "<p>3 rows × 25 columns</p>\n",
       "</div>"
      ],
      "text/plain": [
       "  vendor_id     pickup_datetime    dropoff_datetime  passenger_count  \\\n",
       "0         2 2015-01-20 09:57:47 2015-01-20 10:14:24                1   \n",
       "1         1 2015-01-15 04:50:46 2015-01-15 05:01:29                1   \n",
       "2         2 2015-01-22 09:31:00 2015-01-22 09:50:42                1   \n",
       "\n",
       "   trip_distance  pickup_longitude  pickup_latitude  rate_code  \\\n",
       "0           2.54        -74.014793        40.714111       <NA>   \n",
       "1           2.30        -74.015938        40.710976       <NA>   \n",
       "2           4.13        -73.989738        40.701981       <NA>   \n",
       "\n",
       "  store_and_fwd_flag  dropoff_longitude  ...  tip_amount tolls_amount  \\\n",
       "0                  N         -73.991997  ...         2.5          0.0   \n",
       "1                  N         -73.996552  ...         0.0          0.0   \n",
       "2                  N         -74.007828  ...         2.0          0.0   \n",
       "\n",
       "   imp_surcharge  total_amount  pickup_zip_code  pickup_zip_code_lat  \\\n",
       "0            0.3          15.8            10280            40.709073   \n",
       "1            0.3          11.3            10280            40.709073   \n",
       "2            0.3          19.8            11201            40.693700   \n",
       "\n",
       "   pickup_zip_code_lon  dropoff_zip_code  dropoff_zip_code_lat  \\\n",
       "0           -74.016423             10003             40.731829   \n",
       "1           -74.016423             10011             40.742043   \n",
       "2           -73.989859             10011             40.742043   \n",
       "\n",
       "  dropoff_zip_code_lon  \n",
       "0           -73.989181  \n",
       "1           -74.000620  \n",
       "2           -74.000620  \n",
       "\n",
       "[3 rows x 25 columns]"
      ]
     },
     "execution_count": 53,
     "metadata": {},
     "output_type": "execute_result"
    }
   ],
   "source": [
    "taxi_df_by_zipcode.head(3)"
   ]
  },
  {
   "cell_type": "code",
   "execution_count": null,
   "metadata": {},
   "outputs": [
    {
     "data": {
      "application/vnd.jupyter.widget-view+json": {
       "model_id": "db1feb764ce94399924ae7b7108ff77c",
       "version_major": 2,
       "version_minor": 0
      },
      "text/plain": [
       "DeckGLWidget(carto_key=None, custom_libraries=[], google_maps_key=None, json_input='{\"initialViewState\": {\"lat…"
      ]
     },
     "metadata": {},
     "output_type": "display_data"
    }
   ],
   "source": [
    "\n",
    "arc_layer = pdk.Layer(\n",
    "    'ArcLayer',\n",
    "    taxi_df_by_zipcode,\n",
    "    get_source_position='[pickup_zip_code_lon, pickup_zip_code_lat]',\n",
    "    get_target_position='[dropoff_zip_code_lon, dropoff_zip_code_lat]',\n",
    "    get_source_color='[255, 255, 120]', \n",
    "    get_target_color='[255, 0, 0]',\n",
    "    get_widht='elevationValue',\n",
    "    pickable=True, \n",
    "    auto_highlight=True,\n",
    ")\n",
    "\n",
    "nyc_center = [-73.9808, 40.7648] \n",
    "view_state = pdk.ViewState(longitude=nyc_center[0], latitude=nyc_center[1], zoom=9)\n",
    "\n",
    "r = pdk.Deck(layers=[arc_layer], initial_view_state=view_state)\n",
    "r.show()\n"
   ]
  },
  {
   "attachments": {},
   "cell_type": "markdown",
   "metadata": {},
   "source": [
    "### Aggregate "
   ]
  },
  {
   "cell_type": "code",
   "execution_count": null,
   "metadata": {},
   "outputs": [],
   "source": [
    "agg_query = \"\"\"\n",
    "WITH base_data AS \n",
    "(\n",
    "  SELECT \n",
    "    nyc_taxi.*, \n",
    "    pickup.zip_code as pickup_zip_code,\n",
    "    pickup.internal_point_lat as pickup_zip_code_lat,\n",
    "    pickup.internal_point_lon as pickup_zip_code_lon,\n",
    "    dropoff.zip_code as dropoff_zip_code,\n",
    "    dropoff.internal_point_lat as dropoff_zip_code_lat,\n",
    "    dropoff.internal_point_lon as dropoff_zip_code_lon\n",
    "  FROM (\n",
    "    SELECT *\n",
    "    FROM `bigquery-public-data.new_york_taxi_trips.tlc_yellow_trips_2015`\n",
    "    WHERE \n",
    "        EXTRACT(MONTH from pickup_datetime) = 1\n",
    "        and pickup_latitude <= 90 and pickup_latitude >= -90\n",
    "        and dropoff_latitude <= 90 and dropoff_latitude >= -90\n",
    "    ) AS nyc_taxi\n",
    "  JOIN (\n",
    "    SELECT zip_code, state_code, state_name, city, county, zip_code_geom, internal_point_lat, internal_point_lon \n",
    "    FROM `bigquery-public-data.geo_us_boundaries.zip_codes`\n",
    "    WHERE state_code='NY'\n",
    "    ) AS pickup \n",
    "  ON ST_CONTAINS(pickup.zip_code_geom, st_geogpoint(pickup_longitude, pickup_latitude))\n",
    "  JOIN (\n",
    "    SELECT zip_code, state_code, state_name, city, county, zip_code_geom, internal_point_lat, internal_point_lon \n",
    "    FROM `bigquery-public-data.geo_us_boundaries.zip_codes`\n",
    "    WHERE state_code='NY' \n",
    "    ) AS dropoff\n",
    "  ON ST_CONTAINS(dropoff.zip_code_geom, st_geogpoint(dropoff_longitude, dropoff_latitude))\n",
    "  \n",
    ")\n",
    "\n",
    "SELECT \n",
    "  pickup_zip_code,\n",
    "  pickup_zip_code_lat,\n",
    "  pickup_zip_code_lon,\n",
    "  dropoff_zip_code,\n",
    "  dropoff_zip_code_lat,\n",
    "  dropoff_zip_code_lon,\n",
    "  COUNT(*) AS cnt\n",
    "FROM base_data \n",
    "GROUP BY 1,2,3,4,5,6\n",
    "limit 10000\n",
    "\"\"\""
   ]
  },
  {
   "cell_type": "code",
   "execution_count": null,
   "metadata": {},
   "outputs": [
    {
     "name": "stdout",
     "output_type": "stream",
     "text": [
      "Wall time: 15.9 s\n"
     ]
    }
   ],
   "source": [
    "%%time\n",
    "agg_df = pd.read_gbq(query=agg_query, dialect='standard', project_id='persuasive-zoo-147513', credentials=credentials)"
   ]
  },
  {
   "cell_type": "code",
   "execution_count": null,
   "metadata": {},
   "outputs": [
    {
     "data": {
      "text/html": [
       "<div>\n",
       "<style scoped>\n",
       "    .dataframe tbody tr th:only-of-type {\n",
       "        vertical-align: middle;\n",
       "    }\n",
       "\n",
       "    .dataframe tbody tr th {\n",
       "        vertical-align: top;\n",
       "    }\n",
       "\n",
       "    .dataframe thead th {\n",
       "        text-align: right;\n",
       "    }\n",
       "</style>\n",
       "<table border=\"1\" class=\"dataframe\">\n",
       "  <thead>\n",
       "    <tr style=\"text-align: right;\">\n",
       "      <th></th>\n",
       "      <th>pickup_zip_code</th>\n",
       "      <th>pickup_zip_code_lat</th>\n",
       "      <th>pickup_zip_code_lon</th>\n",
       "      <th>dropoff_zip_code</th>\n",
       "      <th>dropoff_zip_code_lat</th>\n",
       "      <th>dropoff_zip_code_lon</th>\n",
       "      <th>cnt</th>\n",
       "    </tr>\n",
       "  </thead>\n",
       "  <tbody>\n",
       "    <tr>\n",
       "      <th>0</th>\n",
       "      <td>11693</td>\n",
       "      <td>40.590916</td>\n",
       "      <td>-73.809715</td>\n",
       "      <td>11414</td>\n",
       "      <td>40.657604</td>\n",
       "      <td>-73.844804</td>\n",
       "      <td>1</td>\n",
       "    </tr>\n",
       "    <tr>\n",
       "      <th>1</th>\n",
       "      <td>10040</td>\n",
       "      <td>40.858314</td>\n",
       "      <td>-73.930494</td>\n",
       "      <td>10040</td>\n",
       "      <td>40.858314</td>\n",
       "      <td>-73.930494</td>\n",
       "      <td>139</td>\n",
       "    </tr>\n",
       "    <tr>\n",
       "      <th>2</th>\n",
       "      <td>10473</td>\n",
       "      <td>40.818690</td>\n",
       "      <td>-73.858474</td>\n",
       "      <td>10030</td>\n",
       "      <td>40.818267</td>\n",
       "      <td>-73.942856</td>\n",
       "      <td>1</td>\n",
       "    </tr>\n",
       "    <tr>\n",
       "      <th>3</th>\n",
       "      <td>10451</td>\n",
       "      <td>40.820454</td>\n",
       "      <td>-73.925066</td>\n",
       "      <td>10031</td>\n",
       "      <td>40.825288</td>\n",
       "      <td>-73.950045</td>\n",
       "      <td>93</td>\n",
       "    </tr>\n",
       "    <tr>\n",
       "      <th>4</th>\n",
       "      <td>11209</td>\n",
       "      <td>40.621993</td>\n",
       "      <td>-74.030134</td>\n",
       "      <td>11228</td>\n",
       "      <td>40.616698</td>\n",
       "      <td>-74.013066</td>\n",
       "      <td>28</td>\n",
       "    </tr>\n",
       "  </tbody>\n",
       "</table>\n",
       "</div>"
      ],
      "text/plain": [
       "  pickup_zip_code  pickup_zip_code_lat  pickup_zip_code_lon dropoff_zip_code  \\\n",
       "0           11693            40.590916           -73.809715            11414   \n",
       "1           10040            40.858314           -73.930494            10040   \n",
       "2           10473            40.818690           -73.858474            10030   \n",
       "3           10451            40.820454           -73.925066            10031   \n",
       "4           11209            40.621993           -74.030134            11228   \n",
       "\n",
       "   dropoff_zip_code_lat  dropoff_zip_code_lon  cnt  \n",
       "0             40.657604            -73.844804    1  \n",
       "1             40.858314            -73.930494  139  \n",
       "2             40.818267            -73.942856    1  \n",
       "3             40.825288            -73.950045   93  \n",
       "4             40.616698            -74.013066   28  "
      ]
     },
     "execution_count": 57,
     "metadata": {},
     "output_type": "execute_result"
    }
   ],
   "source": [
    "agg_df.head()"
   ]
  },
  {
   "cell_type": "code",
   "execution_count": null,
   "metadata": {},
   "outputs": [],
   "source": [
    "agg_df = agg_df.sort_values('cnt', ascending=False)"
   ]
  },
  {
   "cell_type": "code",
   "execution_count": null,
   "metadata": {},
   "outputs": [],
   "source": [
    "agg_df = agg_df[:100]"
   ]
  },
  {
   "cell_type": "code",
   "execution_count": null,
   "metadata": {},
   "outputs": [
    {
     "data": {
      "application/vnd.jupyter.widget-view+json": {
       "model_id": "fdda1fb58d214d9ea1bc5f5b9616677b",
       "version_major": 2,
       "version_minor": 0
      },
      "text/plain": [
       "DeckGLWidget(carto_key=None, custom_libraries=[], google_maps_key=None, json_input='{\"initialViewState\": {\"lat…"
      ]
     },
     "metadata": {},
     "output_type": "display_data"
    }
   ],
   "source": [
    "\n",
    "arc_layer = pdk.Layer(\n",
    "    'ArcLayer',\n",
    "    agg_df,\n",
    "    get_source_position='[pickup_zip_code_lon, pickup_zip_code_lat]',\n",
    "    get_target_position='[dropoff_zip_code_lon, dropoff_zip_code_lat]',\n",
    "    get_source_color='[255, 255, 120]', \n",
    "    get_target_color='[255, 0, 0]',\n",
    "    width_units='meters',\n",
    "    get_width=\"1+10*cnt/500\",\n",
    "    pickable=True, \n",
    "    auto_highlight=True,\n",
    ")\n",
    "\n",
    "nyc_center = [-73.9808, 40.7648] \n",
    "view_state = pdk.ViewState(longitude=nyc_center[0], latitude=nyc_center[1], zoom=9)\n",
    "\n",
    "r = pdk.Deck(layers=[arc_layer], initial_view_state=view_state,\n",
    "             tooltip={\n",
    "                 'html': '<b>count:</b> {cnt}',\n",
    "                 'style': {\n",
    "                     'color': 'white'\n",
    "                 }\n",
    "             }\n",
    "            )\n",
    "r.show()\n"
   ]
  },
  {
   "attachments": {},
   "cell_type": "markdown",
   "metadata": {},
   "source": [
    "### 요일별 위젯"
   ]
  },
  {
   "cell_type": "code",
   "execution_count": null,
   "metadata": {},
   "outputs": [],
   "source": [
    "agg_query2 = \"\"\"\n",
    "WITH base_data AS \n",
    "(\n",
    "  SELECT \n",
    "    nyc_taxi.*, \n",
    "    pickup.zip_code as pickup_zip_code,\n",
    "    pickup.internal_point_lat as pickup_zip_code_lat,\n",
    "    pickup.internal_point_lon as pickup_zip_code_lon,\n",
    "    dropoff.zip_code as dropoff_zip_code,\n",
    "    dropoff.internal_point_lat as dropoff_zip_code_lat,\n",
    "    dropoff.internal_point_lon as dropoff_zip_code_lon\n",
    "  FROM (\n",
    "    SELECT *\n",
    "    FROM `bigquery-public-data.new_york_taxi_trips.tlc_yellow_trips_2015`\n",
    "    WHERE \n",
    "        EXTRACT(MONTH from pickup_datetime) = 1\n",
    "        and pickup_latitude <= 90 and pickup_latitude >= -90\n",
    "        and dropoff_latitude <= 90 and dropoff_latitude >= -90\n",
    "    LIMIT 100000\n",
    "    ) AS nyc_taxi\n",
    "  JOIN (\n",
    "    SELECT zip_code, state_code, state_name, city, county, zip_code_geom, internal_point_lat, internal_point_lon \n",
    "    FROM `bigquery-public-data.geo_us_boundaries.zip_codes`\n",
    "    WHERE state_code='NY'\n",
    "    ) AS pickup \n",
    "  ON ST_CONTAINS(pickup.zip_code_geom, st_geogpoint(pickup_longitude, pickup_latitude))\n",
    "  JOIN (\n",
    "    SELECT zip_code, state_code, state_name, city, county, zip_code_geom, internal_point_lat, internal_point_lon \n",
    "    FROM `bigquery-public-data.geo_us_boundaries.zip_codes`\n",
    "    WHERE state_code='NY' \n",
    "    ) AS dropoff\n",
    "  ON ST_CONTAINS(dropoff.zip_code_geom, st_geogpoint(dropoff_longitude, dropoff_latitude))\n",
    "  \n",
    ")\n",
    "\n",
    "SELECT \n",
    "  CAST(format_datetime('%u', pickup_datetime) AS INT64) -1 AS weekday,\n",
    "  pickup_zip_code,\n",
    "  pickup_zip_code_lat,\n",
    "  pickup_zip_code_lon,\n",
    "  dropoff_zip_code,\n",
    "  dropoff_zip_code_lat,\n",
    "  dropoff_zip_code_lon,\n",
    "  COUNT(*) AS cnt\n",
    "FROM base_data \n",
    "GROUP BY 1,2,3,4,5,6,7\n",
    "\"\"\""
   ]
  },
  {
   "cell_type": "code",
   "execution_count": null,
   "metadata": {},
   "outputs": [
    {
     "name": "stdout",
     "output_type": "stream",
     "text": [
      "Wall time: 7.41 s\n"
     ]
    }
   ],
   "source": [
    "%%time\n",
    "agg_df2 = pd.read_gbq(query=agg_query2, dialect='standard', project_id='persuasive-zoo-147513', credentials=credentials)"
   ]
  },
  {
   "cell_type": "code",
   "execution_count": null,
   "metadata": {},
   "outputs": [
    {
     "data": {
      "text/html": [
       "<div>\n",
       "<style scoped>\n",
       "    .dataframe tbody tr th:only-of-type {\n",
       "        vertical-align: middle;\n",
       "    }\n",
       "\n",
       "    .dataframe tbody tr th {\n",
       "        vertical-align: top;\n",
       "    }\n",
       "\n",
       "    .dataframe thead th {\n",
       "        text-align: right;\n",
       "    }\n",
       "</style>\n",
       "<table border=\"1\" class=\"dataframe\">\n",
       "  <thead>\n",
       "    <tr style=\"text-align: right;\">\n",
       "      <th></th>\n",
       "      <th>weekday</th>\n",
       "      <th>pickup_zip_code</th>\n",
       "      <th>pickup_zip_code_lat</th>\n",
       "      <th>pickup_zip_code_lon</th>\n",
       "      <th>dropoff_zip_code</th>\n",
       "      <th>dropoff_zip_code_lat</th>\n",
       "      <th>dropoff_zip_code_lon</th>\n",
       "      <th>cnt</th>\n",
       "    </tr>\n",
       "  </thead>\n",
       "  <tbody>\n",
       "    <tr>\n",
       "      <th>0</th>\n",
       "      <td>4</td>\n",
       "      <td>11214</td>\n",
       "      <td>40.599148</td>\n",
       "      <td>-73.996090</td>\n",
       "      <td>10035</td>\n",
       "      <td>40.795458</td>\n",
       "      <td>-73.929570</td>\n",
       "      <td>1</td>\n",
       "    </tr>\n",
       "    <tr>\n",
       "      <th>1</th>\n",
       "      <td>6</td>\n",
       "      <td>10171</td>\n",
       "      <td>40.755899</td>\n",
       "      <td>-73.973858</td>\n",
       "      <td>11430</td>\n",
       "      <td>40.646809</td>\n",
       "      <td>-73.786169</td>\n",
       "      <td>2</td>\n",
       "    </tr>\n",
       "    <tr>\n",
       "      <th>2</th>\n",
       "      <td>5</td>\n",
       "      <td>10461</td>\n",
       "      <td>40.847394</td>\n",
       "      <td>-73.840583</td>\n",
       "      <td>10475</td>\n",
       "      <td>40.874375</td>\n",
       "      <td>-73.823656</td>\n",
       "      <td>1</td>\n",
       "    </tr>\n",
       "    <tr>\n",
       "      <th>3</th>\n",
       "      <td>0</td>\n",
       "      <td>10172</td>\n",
       "      <td>40.755273</td>\n",
       "      <td>-73.974315</td>\n",
       "      <td>10065</td>\n",
       "      <td>40.764628</td>\n",
       "      <td>-73.963144</td>\n",
       "      <td>1</td>\n",
       "    </tr>\n",
       "    <tr>\n",
       "      <th>4</th>\n",
       "      <td>6</td>\n",
       "      <td>10162</td>\n",
       "      <td>40.769308</td>\n",
       "      <td>-73.949924</td>\n",
       "      <td>11430</td>\n",
       "      <td>40.646809</td>\n",
       "      <td>-73.786169</td>\n",
       "      <td>1</td>\n",
       "    </tr>\n",
       "  </tbody>\n",
       "</table>\n",
       "</div>"
      ],
      "text/plain": [
       "   weekday pickup_zip_code  pickup_zip_code_lat  pickup_zip_code_lon  \\\n",
       "0        4           11214            40.599148           -73.996090   \n",
       "1        6           10171            40.755899           -73.973858   \n",
       "2        5           10461            40.847394           -73.840583   \n",
       "3        0           10172            40.755273           -73.974315   \n",
       "4        6           10162            40.769308           -73.949924   \n",
       "\n",
       "  dropoff_zip_code  dropoff_zip_code_lat  dropoff_zip_code_lon  cnt  \n",
       "0            10035             40.795458            -73.929570    1  \n",
       "1            11430             40.646809            -73.786169    2  \n",
       "2            10475             40.874375            -73.823656    1  \n",
       "3            10065             40.764628            -73.963144    1  \n",
       "4            11430             40.646809            -73.786169    1  "
      ]
     },
     "execution_count": 63,
     "metadata": {},
     "output_type": "execute_result"
    }
   ],
   "source": [
    "agg_df2.head()"
   ]
  },
  {
   "cell_type": "code",
   "execution_count": null,
   "metadata": {},
   "outputs": [],
   "source": [
    "default_data = agg_df2[agg_df2['weekday'] == 0].to_dict(orient='records')"
   ]
  },
  {
   "cell_type": "code",
   "execution_count": null,
   "metadata": {},
   "outputs": [
    {
     "data": {
      "application/vnd.jupyter.widget-view+json": {
       "model_id": "0dcc93bc4da3421bbd899d81ef00c890",
       "version_major": 2,
       "version_minor": 0
      },
      "text/plain": [
       "DeckGLWidget(carto_key=None, custom_libraries=[], google_maps_key=None, json_input='{\"initialViewState\": {\"lat…"
      ]
     },
     "metadata": {},
     "output_type": "display_data"
    }
   ],
   "source": [
    "arc_layer = pdk.Layer(\n",
    "    'ArcLayer',\n",
    "    default_data,\n",
    "    get_source_position='[pickup_zip_code_lon, pickup_zip_code_lat]',\n",
    "    get_target_position='[dropoff_zip_code_lon, dropoff_zip_code_lat]',\n",
    "    get_source_color='[255, 255, 120]', \n",
    "    get_target_color='[255, 0, 0]',\n",
    "    width_units='meters',\n",
    "    get_width=\"1+10*cnt/500\",\n",
    "    pickable=True, \n",
    "    auto_highlight=True,\n",
    ")\n",
    "\n",
    "nyc_center = [-73.9808, 40.7648] \n",
    "view_state = pdk.ViewState(longitude=nyc_center[0], latitude=nyc_center[1], zoom=9)\n",
    "\n",
    "r = pdk.Deck(layers=[arc_layer], initial_view_state=view_state,\n",
    "             tooltip={\n",
    "                 'html': '<b>count:</b> {cnt}',\n",
    "                 'style': {\n",
    "                     'color': 'white'\n",
    "                 }\n",
    "             }\n",
    "            )\n",
    "r.show()\n"
   ]
  },
  {
   "cell_type": "code",
   "execution_count": null,
   "metadata": {},
   "outputs": [
    {
     "data": {
      "application/vnd.jupyter.widget-view+json": {
       "model_id": "3fbbbd2407434c94920407739b94c6fa",
       "version_major": 2,
       "version_minor": 0
      },
      "text/plain": [
       "IntSlider(value=0, max=6)"
      ]
     },
     "metadata": {},
     "output_type": "display_data"
    }
   ],
   "source": [
    "# Widget 슬라이더 생성\n",
    "import ipywidgets as widgets\n",
    "from IPython.display import display\n",
    "slider = widgets.IntSlider(0, min=0, max=6, step=1)\n",
    "\n",
    "# Widget에서 사용할 함수 정의 \n",
    "def on_change(v):\n",
    "    results = agg_df2[agg_df2['weekday'] == slider.value].to_dict(orient='records')\n",
    "    arc_layer.data = results\n",
    "    r.update()\n",
    "\n",
    "# Deck과 슬라이더 연결\n",
    "slider.observe(on_change, names='value')\n",
    "display(slider)"
   ]
  },
  {
   "cell_type": "code",
   "execution_count": null,
   "metadata": {},
   "outputs": [],
   "source": []
  }
 ],
 "metadata": {
  "kernelspec": {
   "display_name": "Python 3 (ipykernel)",
   "language": "python",
   "name": "python3"
  },
  "language_info": {
   "codemirror_mode": {
    "name": "ipython",
    "version": 3
   },
   "file_extension": ".py",
   "mimetype": "text/x-python",
   "name": "python",
   "nbconvert_exporter": "python",
   "pygments_lexer": "ipython3",
   "version": "3.11.3"
  },
  "varInspector": {
   "cols": {
    "lenName": 16,
    "lenType": 16,
    "lenVar": 40
   },
   "kernels_config": {
    "python": {
     "delete_cmd_postfix": "",
     "delete_cmd_prefix": "del ",
     "library": "var_list.py",
     "varRefreshCmd": "print(var_dic_list())"
    },
    "r": {
     "delete_cmd_postfix": ") ",
     "delete_cmd_prefix": "rm(",
     "library": "var_list.r",
     "varRefreshCmd": "cat(var_dic_list()) "
    }
   },
   "types_to_exclude": [
    "module",
    "function",
    "builtin_function_or_method",
    "instance",
    "_Feature"
   ],
   "window_display": false
  }
 },
 "nbformat": 4,
 "nbformat_minor": 4
}
