{
 "cells": [
  {
   "attachments": {},
   "cell_type": "markdown",
   "metadata": {},
   "source": [
    "---\n",
    "title: \"Uber\"\n",
    "author: \"kim dayeon\"\n",
    "date: today\n",
    "categories: [news, code, analysis]\n",
    "image: \"uber.png\"\n",
    "---"
   ]
  },
  {
   "cell_type": "code",
   "execution_count": 1,
   "metadata": {},
   "outputs": [],
   "source": [
    "import pandas as pd\n",
    "import matplotlib.pyplot as plt\n",
    "from h3 import h3\n",
    "from collections import Counter\n",
    "import pydeck as pdk"
   ]
  },
  {
   "cell_type": "code",
   "execution_count": 11,
   "metadata": {},
   "outputs": [
    {
     "data": {
      "application/vnd.jupyter.widget-view+json": {
       "model_id": "ea8786bb299f4e1cb4dfaead5cf8978c",
       "version_major": 2,
       "version_minor": 0
      },
      "text/plain": [
       "DeckGLWidget(carto_key=None, custom_libraries=[], google_maps_key=None, json_input='{\\n  \"initialViewState\": {…"
      ]
     },
     "metadata": {},
     "output_type": "display_data"
    }
   ],
   "source": [
    "H3_HEX_DATA = \"https://raw.githubusercontent.com/visgl/deck.gl-data/master/website/sf.h3cells.json\"\n",
    "\n",
    "df = pd.read_json(H3_HEX_DATA)\n",
    "\n",
    "# Define a layer to display on a map\n",
    "layer = pdk.Layer(\n",
    "    \"H3HexagonLayer\",\n",
    "    df,\n",
    "    pickable=True,\n",
    "    stroked=True,\n",
    "    filled=True,\n",
    "    extruded=False,\n",
    "    get_hexagon=\"hex\",  #반대로 h3.ceoll_to_latlng(cell)을 하면 헥사곤의 중심좌표나오게 할수도 있음\n",
    "    get_fill_color=\"[255 - count, 255, count]\", #count에 따라 색이 바뀌게 \n",
    "    get_line_color=[255, 255, 255],\n",
    "    line_width_min_pixels=2,\n",
    ")\n",
    "\n",
    "# Set the viewport location\n",
    "view_state = pdk.ViewState(latitude=37.7749295, longitude=-122.4194155, zoom=14, bearing=0, pitch=30)\n",
    "\n",
    "\n",
    "# Render\n",
    "r = pdk.Deck(layers=[layer], initial_view_state=view_state, tooltip={\"text\": \"Count: {count}\"})\n",
    "r.show()"
   ]
  },
  {
   "cell_type": "code",
   "execution_count": 12,
   "metadata": {},
   "outputs": [
    {
     "name": "stdout",
     "output_type": "stream",
     "text": [
      "                 hex  count                        center_coordinates\n",
      "0    88283082b9fffff     96  (40.13171663764596, -124.76072993368852)\n",
      "1    8828308281fffff    534  (40.13171663764596, -124.76072993368852)\n",
      "2    88283082d7fffff     36  (40.13171663764596, -124.76072993368852)\n",
      "3    88283082c1fffff    297  (40.13171663764596, -124.76072993368852)\n",
      "4    88283082a9fffff    147  (40.13171663764596, -124.76072993368852)\n",
      "..               ...    ...                                       ...\n",
      "119  8828309563fffff      2  (40.13171663764596, -124.76072993368852)\n",
      "120  8828309589fffff      4  (40.13171663764596, -124.76072993368852)\n",
      "121  882830820bfffff      4  (40.13171663764596, -124.76072993368852)\n",
      "122  88283095c1fffff      4  (40.13171663764596, -124.76072993368852)\n",
      "123  88283095e1fffff      8  (40.13171663764596, -124.76072993368852)\n",
      "\n",
      "[124 rows x 3 columns]\n"
     ]
    }
   ],
   "source": [
    "#중심좌표 계산 함수\n",
    "def calculate_center(hexagon):\n",
    "    hex_center = h3.h3_to_geo(h3.h3_to_parent(hexagon,0))\n",
    "    return hex_center\n",
    "\n",
    "#중심좌표 계산 및 결과 열 추가\n",
    "df['center_coordinates'] = df['hex'].apply(lambda x: calculate_center(x))\n",
    "\n",
    "print(df)\n"
   ]
  },
  {
   "cell_type": "code",
   "execution_count": 18,
   "metadata": {},
   "outputs": [
    {
     "name": "stdout",
     "output_type": "stream",
     "text": [
      "                 hex  count   \n",
      "0    88283082b9fffff     96  \\\n",
      "1    8828308281fffff    534   \n",
      "2    88283082d7fffff     36   \n",
      "3    88283082c1fffff    297   \n",
      "4    88283082a9fffff    147   \n",
      "..               ...    ...   \n",
      "119  8828309563fffff      2   \n",
      "120  8828309589fffff      4   \n",
      "121  882830820bfffff      4   \n",
      "122  88283095c1fffff      4   \n",
      "123  88283095e1fffff      8   \n",
      "\n",
      "                                    center_coordinates   \n",
      "0    ((37.78289841436256, -122.42116698852692), (37...  \\\n",
      "1    ((37.768823088264455, -122.41682323684428), (3...   \n",
      "2    ((37.764031696110386, -122.43760980181288), (3...   \n",
      "3    ((37.74650902798579, -122.41550590767771), (37...   \n",
      "4    ((37.773611293806056, -122.3960319590407), (37...   \n",
      "..                                                 ...   \n",
      "119  ((37.70771385735556, -122.42023721647774), (37...   \n",
      "120  ((37.74380260664484, -122.49257324317678), (37...   \n",
      "121  ((37.72552278129231, -122.37564746106892), (37...   \n",
      "122  ((37.72972832316704, -122.48822347363136), (37...   \n",
      "123  ((37.74276400604362, -122.46443303716792), (37...   \n",
      "\n",
      "                                  boundary_coordinates  \n",
      "0    ((37.78289841436256, -122.42116698852692), (37...  \n",
      "1    ((37.768823088264455, -122.41682323684428), (3...  \n",
      "2    ((37.764031696110386, -122.43760980181288), (3...  \n",
      "3    ((37.74650902798579, -122.41550590767771), (37...  \n",
      "4    ((37.773611293806056, -122.3960319590407), (37...  \n",
      "..                                                 ...  \n",
      "119  ((37.70771385735556, -122.42023721647774), (37...  \n",
      "120  ((37.74380260664484, -122.49257324317678), (37...  \n",
      "121  ((37.72552278129231, -122.37564746106892), (37...  \n",
      "122  ((37.72972832316704, -122.48822347363136), (37...  \n",
      "123  ((37.74276400604362, -122.46443303716792), (37...  \n",
      "\n",
      "[124 rows x 4 columns]\n"
     ]
    }
   ],
   "source": [
    "#중심좌표 계산 함수\n",
    "def calculate_center(hexagon):\n",
    "    hex_boundary = h3.h3_to_geo_boundary(hexagon)\n",
    "    return hex_boundary\n",
    "\n",
    "#중심좌표 계산 및 결과 열 추가\n",
    "df['center_coordinates'] = df['hex'].apply(lambda x: calculate_center(x))\n",
    "\n",
    "\n",
    "#boundary 좌표 계산 및 결과 열 추가\n",
    "df['boundary_coordinates'] = df['hex'].apply(lambda x: calculate_center(x))\n",
    "\n",
    "print(df) "
   ]
  },
  {
   "cell_type": "code",
   "execution_count": 19,
   "metadata": {},
   "outputs": [
    {
     "name": "stdout",
     "output_type": "stream",
     "text": [
      "          Date/Time      Lat      Lon    Base\n",
      "0  4/1/2014 0:11:00  40.7690 -73.9549  B02512\n",
      "1  4/1/2014 0:17:00  40.7267 -74.0345  B02512\n",
      "2  4/1/2014 0:21:00  40.7316 -73.9873  B02512\n",
      "3  4/1/2014 0:28:00  40.7588 -73.9776  B02512\n",
      "4  4/1/2014 0:33:00  40.7594 -73.9722  B02512\n"
     ]
    }
   ],
   "source": [
    "# 데이터 로드\n",
    "df = pd.read_csv('https://github.com/fivethirtyeight/uber-tlc-foil-response/raw/master/uber-trip-data/uber-raw-data-apr14.csv')\n",
    "\n",
    "# 데이터셋 확인\n",
    "print(df.head())"
   ]
  },
  {
   "attachments": {},
   "cell_type": "markdown",
   "metadata": {},
   "source": [
    "- Date/Time: 여행이 시작된 날짜와 시간 정보. 예를 들어, 4/1/2014 0:11:00는 2014년 4월 1일 오전 0시 11분에 시작된 여행을 의미합니다.\n",
    "- Lat: 출발지의 위도 정보. 위도는 지구의 남북 위치를 나타내는 수치입니다.\n",
    "- Lon: 출발지의 경도 정보. 경도는 지구의 동서 위치를 나타내는 수치입니다.\n",
    "- Base: Uber의 서비스를 제공하는 특정 \"베이스 코드\"가 포함되어 있습니다. 이 코드는 보통 특정 Uber 서비스 센터 또는 운영 지역을 나타냅니다."
   ]
  },
  {
   "cell_type": "code",
   "execution_count": 20,
   "metadata": {},
   "outputs": [
    {
     "data": {
      "text/html": [
       "<div>\n",
       "<style scoped>\n",
       "    .dataframe tbody tr th:only-of-type {\n",
       "        vertical-align: middle;\n",
       "    }\n",
       "\n",
       "    .dataframe tbody tr th {\n",
       "        vertical-align: top;\n",
       "    }\n",
       "\n",
       "    .dataframe thead th {\n",
       "        text-align: right;\n",
       "    }\n",
       "</style>\n",
       "<table border=\"1\" class=\"dataframe\">\n",
       "  <thead>\n",
       "    <tr style=\"text-align: right;\">\n",
       "      <th></th>\n",
       "      <th>Lat</th>\n",
       "      <th>Lon</th>\n",
       "    </tr>\n",
       "  </thead>\n",
       "  <tbody>\n",
       "    <tr>\n",
       "      <th>count</th>\n",
       "      <td>564516.000000</td>\n",
       "      <td>564516.000000</td>\n",
       "    </tr>\n",
       "    <tr>\n",
       "      <th>mean</th>\n",
       "      <td>40.740005</td>\n",
       "      <td>-73.976817</td>\n",
       "    </tr>\n",
       "    <tr>\n",
       "      <th>std</th>\n",
       "      <td>0.036083</td>\n",
       "      <td>0.050426</td>\n",
       "    </tr>\n",
       "    <tr>\n",
       "      <th>min</th>\n",
       "      <td>40.072900</td>\n",
       "      <td>-74.773300</td>\n",
       "    </tr>\n",
       "    <tr>\n",
       "      <th>25%</th>\n",
       "      <td>40.722500</td>\n",
       "      <td>-73.997700</td>\n",
       "    </tr>\n",
       "    <tr>\n",
       "      <th>50%</th>\n",
       "      <td>40.742500</td>\n",
       "      <td>-73.984800</td>\n",
       "    </tr>\n",
       "    <tr>\n",
       "      <th>75%</th>\n",
       "      <td>40.760700</td>\n",
       "      <td>-73.970000</td>\n",
       "    </tr>\n",
       "    <tr>\n",
       "      <th>max</th>\n",
       "      <td>42.116600</td>\n",
       "      <td>-72.066600</td>\n",
       "    </tr>\n",
       "  </tbody>\n",
       "</table>\n",
       "</div>"
      ],
      "text/plain": [
       "                 Lat            Lon\n",
       "count  564516.000000  564516.000000\n",
       "mean       40.740005     -73.976817\n",
       "std         0.036083       0.050426\n",
       "min        40.072900     -74.773300\n",
       "25%        40.722500     -73.997700\n",
       "50%        40.742500     -73.984800\n",
       "75%        40.760700     -73.970000\n",
       "max        42.116600     -72.066600"
      ]
     },
     "execution_count": 20,
     "metadata": {},
     "output_type": "execute_result"
    }
   ],
   "source": [
    "df.describe()"
   ]
  },
  {
   "attachments": {},
   "cell_type": "markdown",
   "metadata": {},
   "source": [
    "## 1. 데이터의 기본적인 indexing 및 slicing\n",
    "\n"
   ]
  },
  {
   "cell_type": "code",
   "execution_count": 5,
   "metadata": {},
   "outputs": [
    {
     "name": "stdout",
     "output_type": "stream",
     "text": [
      "          Date/Time      Lat      Lon    Base\n",
      "0  4/1/2014 0:11:00  40.7690 -73.9549  B02512\n",
      "1  4/1/2014 0:17:00  40.7267 -74.0345  B02512\n",
      "2  4/1/2014 0:21:00  40.7316 -73.9873  B02512\n",
      "3  4/1/2014 0:28:00  40.7588 -73.9776  B02512\n",
      "4  4/1/2014 0:33:00  40.7594 -73.9722  B02512\n"
     ]
    }
   ],
   "source": [
    "# 처음 5개의 행을 출력\n",
    "print(df.head())\n"
   ]
  },
  {
   "cell_type": "code",
   "execution_count": 21,
   "metadata": {},
   "outputs": [
    {
     "name": "stdout",
     "output_type": "stream",
     "text": [
      "0         40.7690\n",
      "1         40.7267\n",
      "2         40.7316\n",
      "3         40.7588\n",
      "4         40.7594\n",
      "           ...   \n",
      "564511    40.7640\n",
      "564512    40.7629\n",
      "564513    40.7443\n",
      "564514    40.6756\n",
      "564515    40.6880\n",
      "Name: Lat, Length: 564516, dtype: float64\n"
     ]
    }
   ],
   "source": [
    "# 'Lat' 열의 값만 출력\n",
    "print(df['Lat'])"
   ]
  },
  {
   "cell_type": "code",
   "execution_count": 7,
   "metadata": {},
   "outputs": [
    {
     "name": "stdout",
     "output_type": "stream",
     "text": [
      "           Date/Time      Lat      Lon    Base\n",
      "10  4/1/2014 1:19:00  40.7256 -73.9869  B02512\n",
      "11  4/1/2014 1:48:00  40.7591 -73.9684  B02512\n",
      "12  4/1/2014 1:49:00  40.7271 -73.9803  B02512\n",
      "13  4/1/2014 2:11:00  40.6463 -73.7896  B02512\n",
      "14  4/1/2014 2:25:00  40.7564 -73.9167  B02512\n",
      "15  4/1/2014 2:31:00  40.7666 -73.9531  B02512\n",
      "16  4/1/2014 2:43:00  40.7580 -73.9761  B02512\n",
      "17  4/1/2014 3:22:00  40.7238 -73.9821  B02512\n",
      "18  4/1/2014 3:35:00  40.7531 -74.0039  B02512\n",
      "19  4/1/2014 3:35:00  40.7389 -74.0393  B02512\n",
      "20  4/1/2014 3:41:00  40.7619 -73.9715  B02512\n"
     ]
    }
   ],
   "source": [
    "# 10행부터 20행까지 출력\n",
    "print(df.iloc[10:21])"
   ]
  },
  {
   "cell_type": "code",
   "execution_count": 8,
   "metadata": {},
   "outputs": [
    {
     "data": {
      "text/plain": [
       "Base\n",
       "B02682    227808\n",
       "B02598    183263\n",
       "B02617    108001\n",
       "B02512     35536\n",
       "B02764      9908\n",
       "Name: count, dtype: int64"
      ]
     },
     "execution_count": 8,
     "metadata": {},
     "output_type": "execute_result"
    }
   ],
   "source": [
    "# Base 갯수 확인\n",
    "df.Base.value_counts()"
   ]
  },
  {
   "attachments": {},
   "cell_type": "markdown",
   "metadata": {},
   "source": [
    "## 2. 결측치에 대한 처리"
   ]
  },
  {
   "cell_type": "code",
   "execution_count": 9,
   "metadata": {},
   "outputs": [
    {
     "name": "stdout",
     "output_type": "stream",
     "text": [
      "Date/Time    0\n",
      "Lat          0\n",
      "Lon          0\n",
      "Base         0\n",
      "dtype: int64\n"
     ]
    }
   ],
   "source": [
    "# 결측치 개수 확인\n",
    "print(df.isnull().sum())"
   ]
  },
  {
   "attachments": {},
   "cell_type": "markdown",
   "metadata": {},
   "source": [
    "## 3. 기초적인 통계 추출 및 분석\n",
    "\n"
   ]
  },
  {
   "cell_type": "code",
   "execution_count": 10,
   "metadata": {},
   "outputs": [
    {
     "name": "stdout",
     "output_type": "stream",
     "text": [
      "                 Lat            Lon\n",
      "count  564516.000000  564516.000000\n",
      "mean       40.740005     -73.976817\n",
      "std         0.036083       0.050426\n",
      "min        40.072900     -74.773300\n",
      "25%        40.722500     -73.997700\n",
      "50%        40.742500     -73.984800\n",
      "75%        40.760700     -73.970000\n",
      "max        42.116600     -72.066600\n",
      "40.74000520746974\n",
      "-73.9848\n",
      "Base\n",
      "B02682    227808\n",
      "B02598    183263\n",
      "B02617    108001\n",
      "B02512     35536\n",
      "B02764      9908\n",
      "Name: count, dtype: int64\n"
     ]
    }
   ],
   "source": [
    "# 데이터 요약\n",
    "print(df.describe())\n",
    "\n",
    "# 'Lat' 열의 평균\n",
    "print(df['Lat'].mean())\n",
    "\n",
    "# 'Lon' 열의 중앙값\n",
    "print(df['Lon'].median())\n",
    "\n",
    "# 'Base' 열에서 각 값의 빈도수 출력\n",
    "print(df['Base'].value_counts())"
   ]
  },
  {
   "attachments": {},
   "cell_type": "markdown",
   "metadata": {},
   "source": [
    "## 4. 데이터에 대한 질문을 던져보고 해답을 찾기\n",
    "\n"
   ]
  },
  {
   "attachments": {},
   "cell_type": "markdown",
   "metadata": {},
   "source": [
    "### 4.1 월별/요일별 Uber 이용량 비교\n",
    "- 가장 Uber 이용량이 많은 요일은 언제일까요?"
   ]
  },
  {
   "cell_type": "code",
   "execution_count": 11,
   "metadata": {},
   "outputs": [
    {
     "name": "stdout",
     "output_type": "stream",
     "text": [
      "   month   count\n",
      "0      4  564516\n"
     ]
    }
   ],
   "source": [
    "# 3. 월별 이용량 비교\n",
    "\n",
    "#2020년 4월 데이터라서 의미가 없음\n",
    "df['Date/Time'] = pd.to_datetime(df['Date/Time'])\n",
    "df['month'] = df['Date/Time'].dt.month\n",
    "mothly_data = df.groupby('month').size().reset_index(name='count')\n",
    "print(mothly_data)"
   ]
  },
  {
   "cell_type": "code",
   "execution_count": 12,
   "metadata": {},
   "outputs": [
    {
     "name": "stdout",
     "output_type": "stream",
     "text": [
      "   month   count\n",
      "0      4  564516\n"
     ]
    }
   ],
   "source": [
    "# 3. 일별 이용량 비교\n",
    "\n",
    "#2020년 4월 데이터라서 의미가 없음\n",
    "df['day_of_week'] = pd.to_datetime(df['Date/Time'])\n",
    "df['day_of_week'] = df['Date/Time'].dt.dayofweek\n",
    "weekly_data = df.groupby('month').size().reset_index(name='count')\n",
    "print(weekly_data)"
   ]
  },
  {
   "cell_type": "code",
   "execution_count": 20,
   "metadata": {},
   "outputs": [
    {
     "name": "stdout",
     "output_type": "stream",
     "text": [
      "가장 Uber 이용량이 많은 요일은:\n",
      "워: 4\n",
      "요일: 2\n",
      "이용량: 108631\n"
     ]
    }
   ],
   "source": [
    "# 데이터프레임에서 \"Date/Time\" 열을 datetime 형식으로 변환\n",
    "df[\"Date/Time\"] = pd.to_datetime(df[\"Date/Time\"])\n",
    "\n",
    "# 월(month)과 요일(weekday) 열을 생성\n",
    "df[\"month\"] = df[\"Date/Time\"].dt.month\n",
    "df[\"weekday\"] = df[\"Date/Time\"].dt.dayofweek\n",
    "\n",
    "# 월별 및 요일별 Uber 이용량 계산\n",
    "uber_usage = df.groupby([\"month\", \"weekday\"]).size().reset_index(name=\"count\")\n",
    "\n",
    "# 가장 Uber 이용량이 많은 요일 추출\n",
    "max_usage_day = uber_usage.loc[uber_usage[\"count\"].idxmax()]\n",
    "\n",
    "# 결과 출력\n",
    "print(\"가장 Uber 이용량이 많은 요일은:\")\n",
    "print(\"워: {}\".format(max_usage_day[\"month\"]))\n",
    "print(\"요일: {}\".format(max_usage_day[\"weekday\"]))\n",
    "print(\"이용량: {}\".format(max_usage_day[\"count\"]))"
   ]
  },
  {
   "cell_type": "code",
   "execution_count": null,
   "metadata": {},
   "outputs": [],
   "source": [
    "days = [0:'Monday',1:'Tuseday',2:'Wednesday',3:'Friday',5:'Saturday',6:'Sunday']"
   ]
  },
  {
   "cell_type": "code",
   "execution_count": null,
   "metadata": {},
   "outputs": [],
   "source": [
    "import seaborn as sns\n",
    "\n",
    "#연속형을 범주형으로 \n",
    "penguins[\"bill_length_10\"] = (penguins[\"bill_length_mm\"]//10 )* 10\n",
    "\n",
    "fig, axes = plt.subplots(figsize=(8,4))\n",
    "\n",
    "sns.boxplot(x=\"bill_length_10\", y=\"bill_depth_mm\", data=penguins)\n",
    "sns.stripplot(x=\"bill_length_10\", y=\"bill_depth_mm\", color=\"black\", data=penguins,size = 4)\n",
    "\n",
    "plt.show()\n",
    "\n",
    "#fig.tight_layout()"
   ]
  },
  {
   "cell_type": "code",
   "execution_count": 23,
   "metadata": {},
   "outputs": [
    {
     "ename": "ValueError",
     "evalue": "Could not interpret input 'dat_of_week'",
     "output_type": "error",
     "traceback": [
      "\u001b[1;31m---------------------------------------------------------------------------\u001b[0m",
      "\u001b[1;31mValueError\u001b[0m                                Traceback (most recent call last)",
      "Cell \u001b[1;32mIn[23], line 5\u001b[0m\n\u001b[0;32m      1\u001b[0m \u001b[39mimport\u001b[39;00m \u001b[39mseaborn\u001b[39;00m \u001b[39mas\u001b[39;00m \u001b[39msns\u001b[39;00m\n\u001b[0;32m      3\u001b[0m plt\u001b[39m.\u001b[39mfigure(figsize \u001b[39m=\u001b[39m (\u001b[39m10\u001b[39m,\u001b[39m6\u001b[39m))\n\u001b[1;32m----> 5\u001b[0m sns\u001b[39m.\u001b[39mbarplot(x \u001b[39m=\u001b[39m \u001b[39m\"\u001b[39m\u001b[39mdat_of_week\u001b[39m\u001b[39m\"\u001b[39m,y\u001b[39m=\u001b[39m\u001b[39m'\u001b[39m\u001b[39mcount\u001b[39m\u001b[39m'\u001b[39m,data\u001b[39m=\u001b[39mweekly_data,color \u001b[39m=\u001b[39m \u001b[39m'\u001b[39m\u001b[39mgrey\u001b[39m\u001b[39m'\u001b[39m)\n\u001b[0;32m      7\u001b[0m \u001b[39m#plt.xticks\u001b[39;00m\n\u001b[0;32m      9\u001b[0m plt\u001b[39m.\u001b[39mshow()\n",
      "File \u001b[1;32mc:\\Users\\jiyeo\\anaconda3\\envs\\dayeon\\Lib\\site-packages\\seaborn\\categorical.py:2755\u001b[0m, in \u001b[0;36mbarplot\u001b[1;34m(data, x, y, hue, order, hue_order, estimator, errorbar, n_boot, units, seed, orient, color, palette, saturation, width, errcolor, errwidth, capsize, dodge, ci, ax, **kwargs)\u001b[0m\n\u001b[0;32m   2752\u001b[0m \u001b[39mif\u001b[39;00m estimator \u001b[39mis\u001b[39;00m \u001b[39mlen\u001b[39m:\n\u001b[0;32m   2753\u001b[0m     estimator \u001b[39m=\u001b[39m \u001b[39m\"\u001b[39m\u001b[39msize\u001b[39m\u001b[39m\"\u001b[39m\n\u001b[1;32m-> 2755\u001b[0m plotter \u001b[39m=\u001b[39m _BarPlotter(x, y, hue, data, order, hue_order,\n\u001b[0;32m   2756\u001b[0m                       estimator, errorbar, n_boot, units, seed,\n\u001b[0;32m   2757\u001b[0m                       orient, color, palette, saturation,\n\u001b[0;32m   2758\u001b[0m                       width, errcolor, errwidth, capsize, dodge)\n\u001b[0;32m   2760\u001b[0m \u001b[39mif\u001b[39;00m ax \u001b[39mis\u001b[39;00m \u001b[39mNone\u001b[39;00m:\n\u001b[0;32m   2761\u001b[0m     ax \u001b[39m=\u001b[39m plt\u001b[39m.\u001b[39mgca()\n",
      "File \u001b[1;32mc:\\Users\\jiyeo\\anaconda3\\envs\\dayeon\\Lib\\site-packages\\seaborn\\categorical.py:1530\u001b[0m, in \u001b[0;36m_BarPlotter.__init__\u001b[1;34m(self, x, y, hue, data, order, hue_order, estimator, errorbar, n_boot, units, seed, orient, color, palette, saturation, width, errcolor, errwidth, capsize, dodge)\u001b[0m\n\u001b[0;32m   1525\u001b[0m \u001b[39mdef\u001b[39;00m \u001b[39m__init__\u001b[39m(\u001b[39mself\u001b[39m, x, y, hue, data, order, hue_order,\n\u001b[0;32m   1526\u001b[0m              estimator, errorbar, n_boot, units, seed,\n\u001b[0;32m   1527\u001b[0m              orient, color, palette, saturation, width,\n\u001b[0;32m   1528\u001b[0m              errcolor, errwidth, capsize, dodge):\n\u001b[0;32m   1529\u001b[0m \u001b[39m    \u001b[39m\u001b[39m\"\"\"Initialize the plotter.\"\"\"\u001b[39;00m\n\u001b[1;32m-> 1530\u001b[0m     \u001b[39mself\u001b[39m\u001b[39m.\u001b[39mestablish_variables(x, y, hue, data, orient,\n\u001b[0;32m   1531\u001b[0m                              order, hue_order, units)\n\u001b[0;32m   1532\u001b[0m     \u001b[39mself\u001b[39m\u001b[39m.\u001b[39mestablish_colors(color, palette, saturation)\n\u001b[0;32m   1533\u001b[0m     \u001b[39mself\u001b[39m\u001b[39m.\u001b[39mestimate_statistic(estimator, errorbar, n_boot, seed)\n",
      "File \u001b[1;32mc:\\Users\\jiyeo\\anaconda3\\envs\\dayeon\\Lib\\site-packages\\seaborn\\categorical.py:541\u001b[0m, in \u001b[0;36m_CategoricalPlotter.establish_variables\u001b[1;34m(self, x, y, hue, data, orient, order, hue_order, units)\u001b[0m\n\u001b[0;32m    539\u001b[0m     \u001b[39mif\u001b[39;00m \u001b[39misinstance\u001b[39m(var, \u001b[39mstr\u001b[39m):\n\u001b[0;32m    540\u001b[0m         err \u001b[39m=\u001b[39m \u001b[39mf\u001b[39m\u001b[39m\"\u001b[39m\u001b[39mCould not interpret input \u001b[39m\u001b[39m'\u001b[39m\u001b[39m{\u001b[39;00mvar\u001b[39m}\u001b[39;00m\u001b[39m'\u001b[39m\u001b[39m\"\u001b[39m\n\u001b[1;32m--> 541\u001b[0m         \u001b[39mraise\u001b[39;00m \u001b[39mValueError\u001b[39;00m(err)\n\u001b[0;32m    543\u001b[0m \u001b[39m# Figure out the plotting orientation\u001b[39;00m\n\u001b[0;32m    544\u001b[0m orient \u001b[39m=\u001b[39m infer_orient(\n\u001b[0;32m    545\u001b[0m     x, y, orient, require_numeric\u001b[39m=\u001b[39m\u001b[39mself\u001b[39m\u001b[39m.\u001b[39mrequire_numeric\n\u001b[0;32m    546\u001b[0m )\n",
      "\u001b[1;31mValueError\u001b[0m: Could not interpret input 'dat_of_week'"
     ]
    },
    {
     "data": {
      "text/plain": [
       "<Figure size 1000x600 with 0 Axes>"
      ]
     },
     "metadata": {},
     "output_type": "display_data"
    }
   ],
   "source": [
    "import seaborn as sns\n",
    "\n",
    "plt.figure(figsize = (10,6))\n",
    "\n",
    "sns.barplot(x = \"dat_of_week\",y='count',data=weekly_data,color = 'grey')\n",
    "\n",
    "plt.xticks(rotation = 45)\n",
    "\n",
    "plt.show()"
   ]
  },
  {
   "attachments": {},
   "cell_type": "markdown",
   "metadata": {},
   "source": [
    "### 4.2 시간대별 이용량 비교\n",
    "\n",
    "- 가장 이용량이 많은 시간대는 언제일까요? \n"
   ]
  },
  {
   "cell_type": "code",
   "execution_count": null,
   "metadata": {},
   "outputs": [],
   "source": [
    "df['hour']=df['Date/Time']"
   ]
  },
  {
   "cell_type": "code",
   "execution_count": null,
   "metadata": {},
   "outputs": [],
   "source": [
    "plt.figure(fizsize = (10,6))\n",
    "\n",
    "plt.ylabel('count')\n",
    "plt.show()"
   ]
  },
  {
   "attachments": {},
   "cell_type": "markdown",
   "metadata": {},
   "source": [
    "### 4.3 Uber 수요에 대한 공간적인 시각화\n",
    "\n",
    "- 가장 수요가 많은 지역은 어디일까요?\n",
    "- 시간대/지역별로 수요의 변화를 나타내보고, 시사점을 도출해 봅시다"
   ]
  },
  {
   "cell_type": "code",
   "execution_count": 28,
   "metadata": {},
   "outputs": [],
   "source": [
    "# 위도와 경도를 사용하여 h3 셀 생성\n",
    "df['h3'] = df.apply(lambda row: h3.geo_to_h3(row['Lat'], row['Lon'], 6), axis = 1) # 여기서 6은 해상도를 나타냅니다. 필요에 따라 조절 가능합니다. "
   ]
  },
  {
   "cell_type": "code",
   "execution_count": 30,
   "metadata": {},
   "outputs": [
    {
     "data": {
      "text/plain": [
       "h3\n",
       "862a100d7ffffff    247294\n",
       "862a1072fffffff    125962\n",
       "862a1008fffffff     60138\n",
       "862a10727ffffff     50036\n",
       "862a100dfffffff     26684\n",
       "                    ...  \n",
       "862a10cd7ffffff         1\n",
       "862a13c57ffffff         1\n",
       "862a10c0fffffff         1\n",
       "862a10397ffffff         1\n",
       "862a10b8fffffff         1\n",
       "Name: count, Length: 229, dtype: int64"
      ]
     },
     "execution_count": 30,
     "metadata": {},
     "output_type": "execute_result"
    }
   ],
   "source": [
    "df.h3.value_counts()"
   ]
  },
  {
   "cell_type": "code",
   "execution_count": null,
   "metadata": {},
   "outputs": [],
   "source": [
    "df.groupby('h3').size"
   ]
  },
  {
   "cell_type": "code",
   "execution_count": 31,
   "metadata": {},
   "outputs": [],
   "source": [
    "h3_counts = Counter(df['h3'])"
   ]
  },
  {
   "cell_type": "code",
   "execution_count": 32,
   "metadata": {},
   "outputs": [
    {
     "ename": "AttributeError",
     "evalue": "'method' object has no attribute 'colums'",
     "output_type": "error",
     "traceback": [
      "\u001b[1;31m---------------------------------------------------------------------------\u001b[0m",
      "\u001b[1;31mAttributeError\u001b[0m                            Traceback (most recent call last)",
      "Cell \u001b[1;32mIn[32], line 2\u001b[0m\n\u001b[0;32m      1\u001b[0m df_h3_counts \u001b[39m=\u001b[39mpd\u001b[39m.\u001b[39mDataFrame\u001b[39m.\u001b[39mfrom_dict(h3_counts,orient\u001b[39m=\u001b[39m\u001b[39m'\u001b[39m\u001b[39mindex\u001b[39m\u001b[39m'\u001b[39m)\u001b[39m.\u001b[39mreset_index\n\u001b[1;32m----> 2\u001b[0m df_h3_counts\u001b[39m.\u001b[39mcolums \u001b[39m=\u001b[39m [\u001b[39m'\u001b[39m\u001b[39mh3\u001b[39m\u001b[39m'\u001b[39m,\u001b[39m'\u001b[39m\u001b[39mcount\u001b[39m\u001b[39m'\u001b[39m]\n\u001b[0;32m      3\u001b[0m df_h3_counts[\u001b[39m'\u001b[39m\u001b[39mlat\u001b[39m\u001b[39m'\u001b[39m]\u001b[39m=\u001b[39mdf_h3_counts[\u001b[39m'\u001b[39m\u001b[39mh3\u001b[39m\u001b[39m'\u001b[39m]\u001b[39m.\u001b[39mapply(\u001b[39mlambda\u001b[39;00m x: h3\u001b[39m.\u001b[39mh3_to_geo(x)[\u001b[39m0\u001b[39m])\n\u001b[0;32m      4\u001b[0m df_h3_conts[\u001b[39m'\u001b[39m\u001b[39mlon\u001b[39m\u001b[39m'\u001b[39m]\u001b[39m=\u001b[39mdf_h3_counts[\u001b[39m'\u001b[39m\u001b[39mh3\u001b[39m\u001b[39m'\u001b[39m]\u001b[39m.\u001b[39mapply(\u001b[39mlambda\u001b[39;00m x: h3\u001b[39m.\u001b[39mh3_to_geo(x)[\u001b[39m1\u001b[39m])\n",
      "\u001b[1;31mAttributeError\u001b[0m: 'method' object has no attribute 'colums'"
     ]
    }
   ],
   "source": [
    "df_h3_counts =pd.DataFrame.from_dict(h3_counts,orient='index').reset_index\n",
    "df_h3_counts.colums = ['h3','count']\n",
    "df_h3_counts['lat']=df_h3_counts['h3'].apply(lambda x: h3.h3_to_geo(x)[0])\n",
    "df_h3_conts['lon']=df_h3_counts['h3'].apply(lambda x: h3.h3_to_geo(x)[1])"
   ]
  },
  {
   "cell_type": "code",
   "execution_count": null,
   "metadata": {},
   "outputs": [],
   "source": []
  }
 ],
 "metadata": {
  "kernelspec": {
   "display_name": "Python 3",
   "language": "python",
   "name": "python3"
  },
  "language_info": {
   "codemirror_mode": {
    "name": "ipython",
    "version": 3
   },
   "file_extension": ".py",
   "mimetype": "text/x-python",
   "name": "python",
   "nbconvert_exporter": "python",
   "pygments_lexer": "ipython3",
   "version": "3.11.3"
  },
  "orig_nbformat": 4
 },
 "nbformat": 4,
 "nbformat_minor": 2
}
